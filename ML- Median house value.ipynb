{
 "cells": [
  {
   "cell_type": "markdown",
   "metadata": {},
   "source": [
    "# ML Project - California housing\n",
    "*To create a new environment where we install all the python packages necessary for our ML project*\n",
    "\n",
    "- conda create --name hands_on_ML\n",
    "- conda activate hands_on_ML\n",
    "- conda install -c conda-forge scikit-learn\n",
    "- conda install -c anaconda pandas\n",
    "- conda install -c conda-forge matplotlib\n",
    "- conda install -c anaconda seaborn\n",
    "- pip install ipykernel (--> very important)\n",
    "- python -m ipykernel install --user --name hands_on_ML --display-name \"hands_on_ML\""
   ]
  },
  {
   "cell_type": "markdown",
   "metadata": {},
   "source": [
    "## California housing market\n",
    "We have to predict median price of homes in various parts of California\n",
    "We will use supervised machine learning to predict the median price since we already have values for the target variable.  "
   ]
  },
  {
   "cell_type": "code",
   "execution_count": 2,
   "metadata": {},
   "outputs": [],
   "source": [
    "import pandas as pd\n",
    "import numpy as np\n",
    "import matplotlib.pyplot as plt\n",
    "import seaborn as sns\n",
    "import os"
   ]
  },
  {
   "cell_type": "code",
   "execution_count": 3,
   "metadata": {},
   "outputs": [
    {
     "data": {
      "text/plain": [
       "'c:\\\\Users\\\\DV754TH\\\\OneDrive - EY\\\\Desktop\\\\Practice & Learning\\\\ML end to end project\\\\California_housing.csv'"
      ]
     },
     "execution_count": 3,
     "metadata": {},
     "output_type": "execute_result"
    }
   ],
   "source": [
    "# pwd --> present working directory, cwd --> current working directory\n",
    "pwd = os.getcwd()\n",
    "filepath = os.path.join(pwd,\"California_housing.csv\")\n",
    "filepath"
   ]
  },
  {
   "cell_type": "code",
   "execution_count": 4,
   "metadata": {},
   "outputs": [
    {
     "data": {
      "text/html": [
       "<div>\n",
       "<style scoped>\n",
       "    .dataframe tbody tr th:only-of-type {\n",
       "        vertical-align: middle;\n",
       "    }\n",
       "\n",
       "    .dataframe tbody tr th {\n",
       "        vertical-align: top;\n",
       "    }\n",
       "\n",
       "    .dataframe thead th {\n",
       "        text-align: right;\n",
       "    }\n",
       "</style>\n",
       "<table border=\"1\" class=\"dataframe\">\n",
       "  <thead>\n",
       "    <tr style=\"text-align: right;\">\n",
       "      <th></th>\n",
       "      <th>longitude</th>\n",
       "      <th>latitude</th>\n",
       "      <th>housing_median_age</th>\n",
       "      <th>total_rooms</th>\n",
       "      <th>total_bedrooms</th>\n",
       "      <th>population</th>\n",
       "      <th>households</th>\n",
       "      <th>median_income</th>\n",
       "      <th>median_house_value</th>\n",
       "      <th>ocean_proximity</th>\n",
       "    </tr>\n",
       "  </thead>\n",
       "  <tbody>\n",
       "    <tr>\n",
       "      <th>0</th>\n",
       "      <td>-122.23</td>\n",
       "      <td>37.88</td>\n",
       "      <td>41.0</td>\n",
       "      <td>880.0</td>\n",
       "      <td>129.0</td>\n",
       "      <td>322.0</td>\n",
       "      <td>126.0</td>\n",
       "      <td>8.3252</td>\n",
       "      <td>452600.0</td>\n",
       "      <td>NEAR BAY</td>\n",
       "    </tr>\n",
       "    <tr>\n",
       "      <th>1</th>\n",
       "      <td>-122.22</td>\n",
       "      <td>37.86</td>\n",
       "      <td>21.0</td>\n",
       "      <td>7099.0</td>\n",
       "      <td>1106.0</td>\n",
       "      <td>2401.0</td>\n",
       "      <td>1138.0</td>\n",
       "      <td>8.3014</td>\n",
       "      <td>358500.0</td>\n",
       "      <td>NEAR BAY</td>\n",
       "    </tr>\n",
       "    <tr>\n",
       "      <th>2</th>\n",
       "      <td>-122.24</td>\n",
       "      <td>37.85</td>\n",
       "      <td>52.0</td>\n",
       "      <td>1467.0</td>\n",
       "      <td>190.0</td>\n",
       "      <td>496.0</td>\n",
       "      <td>177.0</td>\n",
       "      <td>7.2574</td>\n",
       "      <td>352100.0</td>\n",
       "      <td>NEAR BAY</td>\n",
       "    </tr>\n",
       "    <tr>\n",
       "      <th>3</th>\n",
       "      <td>-122.25</td>\n",
       "      <td>37.85</td>\n",
       "      <td>52.0</td>\n",
       "      <td>1274.0</td>\n",
       "      <td>235.0</td>\n",
       "      <td>558.0</td>\n",
       "      <td>219.0</td>\n",
       "      <td>5.6431</td>\n",
       "      <td>341300.0</td>\n",
       "      <td>NEAR BAY</td>\n",
       "    </tr>\n",
       "    <tr>\n",
       "      <th>4</th>\n",
       "      <td>-122.25</td>\n",
       "      <td>37.85</td>\n",
       "      <td>52.0</td>\n",
       "      <td>1627.0</td>\n",
       "      <td>280.0</td>\n",
       "      <td>565.0</td>\n",
       "      <td>259.0</td>\n",
       "      <td>3.8462</td>\n",
       "      <td>342200.0</td>\n",
       "      <td>NEAR BAY</td>\n",
       "    </tr>\n",
       "  </tbody>\n",
       "</table>\n",
       "</div>"
      ],
      "text/plain": [
       "   longitude  latitude  housing_median_age  total_rooms  total_bedrooms  \\\n",
       "0    -122.23     37.88                41.0        880.0           129.0   \n",
       "1    -122.22     37.86                21.0       7099.0          1106.0   \n",
       "2    -122.24     37.85                52.0       1467.0           190.0   \n",
       "3    -122.25     37.85                52.0       1274.0           235.0   \n",
       "4    -122.25     37.85                52.0       1627.0           280.0   \n",
       "\n",
       "   population  households  median_income  median_house_value ocean_proximity  \n",
       "0       322.0       126.0         8.3252            452600.0        NEAR BAY  \n",
       "1      2401.0      1138.0         8.3014            358500.0        NEAR BAY  \n",
       "2       496.0       177.0         7.2574            352100.0        NEAR BAY  \n",
       "3       558.0       219.0         5.6431            341300.0        NEAR BAY  \n",
       "4       565.0       259.0         3.8462            342200.0        NEAR BAY  "
      ]
     },
     "execution_count": 4,
     "metadata": {},
     "output_type": "execute_result"
    }
   ],
   "source": [
    "df_housing = pd.read_csv(filepath) # df_housing = housing_data\n",
    "df_housing.head(5)"
   ]
  },
  {
   "cell_type": "code",
   "execution_count": 5,
   "metadata": {},
   "outputs": [
    {
     "name": "stdout",
     "output_type": "stream",
     "text": [
      "<class 'pandas.core.frame.DataFrame'>\n",
      "RangeIndex: 20640 entries, 0 to 20639\n",
      "Data columns (total 10 columns):\n",
      " #   Column              Non-Null Count  Dtype  \n",
      "---  ------              --------------  -----  \n",
      " 0   longitude           20640 non-null  float64\n",
      " 1   latitude            20640 non-null  float64\n",
      " 2   housing_median_age  20640 non-null  float64\n",
      " 3   total_rooms         20640 non-null  float64\n",
      " 4   total_bedrooms      20433 non-null  float64\n",
      " 5   population          20640 non-null  float64\n",
      " 6   households          20640 non-null  float64\n",
      " 7   median_income       20640 non-null  float64\n",
      " 8   median_house_value  20640 non-null  float64\n",
      " 9   ocean_proximity     20640 non-null  object \n",
      "dtypes: float64(9), object(1)\n",
      "memory usage: 1.6+ MB\n"
     ]
    }
   ],
   "source": [
    "df_housing.info()"
   ]
  },
  {
   "cell_type": "code",
   "execution_count": 6,
   "metadata": {},
   "outputs": [
    {
     "data": {
      "text/plain": [
       "<1H OCEAN     9136\n",
       "INLAND        6551\n",
       "NEAR OCEAN    2658\n",
       "NEAR BAY      2290\n",
       "ISLAND           5\n",
       "Name: ocean_proximity, dtype: int64"
      ]
     },
     "execution_count": 6,
     "metadata": {},
     "output_type": "execute_result"
    }
   ],
   "source": [
    "df_housing['ocean_proximity'].value_counts()"
   ]
  },
  {
   "cell_type": "code",
   "execution_count": 7,
   "metadata": {},
   "outputs": [
    {
     "data": {
      "text/plain": [
       "<AxesSubplot:>"
      ]
     },
     "execution_count": 7,
     "metadata": {},
     "output_type": "execute_result"
    },
    {
     "data": {
      "image/png": "[encoded data removed]",
      "text/plain": [
       "<Figure size 432x288 with 1 Axes>"
      ]
     },
     "metadata": {
      "needs_background": "light"
     },
     "output_type": "display_data"
    }
   ],
   "source": [
    "df_housing['ocean_proximity'].value_counts().plot(kind='barh')"
   ]
  },
  {
   "cell_type": "code",
   "execution_count": 8,
   "metadata": {},
   "outputs": [
    {
     "data": {
      "text/html": [
       "<div>\n",
       "<style scoped>\n",
       "    .dataframe tbody tr th:only-of-type {\n",
       "        vertical-align: middle;\n",
       "    }\n",
       "\n",
       "    .dataframe tbody tr th {\n",
       "        vertical-align: top;\n",
       "    }\n",
       "\n",
       "    .dataframe thead th {\n",
       "        text-align: right;\n",
       "    }\n",
       "</style>\n",
       "<table border=\"1\" class=\"dataframe\">\n",
       "  <thead>\n",
       "    <tr style=\"text-align: right;\">\n",
       "      <th></th>\n",
       "      <th>longitude</th>\n",
       "      <th>latitude</th>\n",
       "      <th>housing_median_age</th>\n",
       "      <th>total_rooms</th>\n",
       "      <th>total_bedrooms</th>\n",
       "      <th>population</th>\n",
       "      <th>households</th>\n",
       "      <th>median_income</th>\n",
       "      <th>median_house_value</th>\n",
       "    </tr>\n",
       "  </thead>\n",
       "  <tbody>\n",
       "    <tr>\n",
       "      <th>count</th>\n",
       "      <td>20640.000000</td>\n",
       "      <td>20640.000000</td>\n",
       "      <td>20640.000000</td>\n",
       "      <td>20640.000000</td>\n",
       "      <td>20433.000000</td>\n",
       "      <td>20640.000000</td>\n",
       "      <td>20640.000000</td>\n",
       "      <td>20640.000000</td>\n",
       "      <td>20640.000000</td>\n",
       "    </tr>\n",
       "    <tr>\n",
       "      <th>mean</th>\n",
       "      <td>-119.569704</td>\n",
       "      <td>35.631861</td>\n",
       "      <td>28.639486</td>\n",
       "      <td>2635.763081</td>\n",
       "      <td>537.870553</td>\n",
       "      <td>1425.476744</td>\n",
       "      <td>499.539680</td>\n",
       "      <td>3.870671</td>\n",
       "      <td>206855.816909</td>\n",
       "    </tr>\n",
       "    <tr>\n",
       "      <th>std</th>\n",
       "      <td>2.003532</td>\n",
       "      <td>2.135952</td>\n",
       "      <td>12.585558</td>\n",
       "      <td>2181.615252</td>\n",
       "      <td>421.385070</td>\n",
       "      <td>1132.462122</td>\n",
       "      <td>382.329753</td>\n",
       "      <td>1.899822</td>\n",
       "      <td>115395.615874</td>\n",
       "    </tr>\n",
       "    <tr>\n",
       "      <th>min</th>\n",
       "      <td>-124.350000</td>\n",
       "      <td>32.540000</td>\n",
       "      <td>1.000000</td>\n",
       "      <td>2.000000</td>\n",
       "      <td>1.000000</td>\n",
       "      <td>3.000000</td>\n",
       "      <td>1.000000</td>\n",
       "      <td>0.499900</td>\n",
       "      <td>14999.000000</td>\n",
       "    </tr>\n",
       "    <tr>\n",
       "      <th>25%</th>\n",
       "      <td>-121.800000</td>\n",
       "      <td>33.930000</td>\n",
       "      <td>18.000000</td>\n",
       "      <td>1447.750000</td>\n",
       "      <td>296.000000</td>\n",
       "      <td>787.000000</td>\n",
       "      <td>280.000000</td>\n",
       "      <td>2.563400</td>\n",
       "      <td>119600.000000</td>\n",
       "    </tr>\n",
       "    <tr>\n",
       "      <th>50%</th>\n",
       "      <td>-118.490000</td>\n",
       "      <td>34.260000</td>\n",
       "      <td>29.000000</td>\n",
       "      <td>2127.000000</td>\n",
       "      <td>435.000000</td>\n",
       "      <td>1166.000000</td>\n",
       "      <td>409.000000</td>\n",
       "      <td>3.534800</td>\n",
       "      <td>179700.000000</td>\n",
       "    </tr>\n",
       "    <tr>\n",
       "      <th>75%</th>\n",
       "      <td>-118.010000</td>\n",
       "      <td>37.710000</td>\n",
       "      <td>37.000000</td>\n",
       "      <td>3148.000000</td>\n",
       "      <td>647.000000</td>\n",
       "      <td>1725.000000</td>\n",
       "      <td>605.000000</td>\n",
       "      <td>4.743250</td>\n",
       "      <td>264725.000000</td>\n",
       "    </tr>\n",
       "    <tr>\n",
       "      <th>max</th>\n",
       "      <td>-114.310000</td>\n",
       "      <td>41.950000</td>\n",
       "      <td>52.000000</td>\n",
       "      <td>39320.000000</td>\n",
       "      <td>6445.000000</td>\n",
       "      <td>35682.000000</td>\n",
       "      <td>6082.000000</td>\n",
       "      <td>15.000100</td>\n",
       "      <td>500001.000000</td>\n",
       "    </tr>\n",
       "  </tbody>\n",
       "</table>\n",
       "</div>"
      ],
      "text/plain": [
       "          longitude      latitude  housing_median_age   total_rooms  \\\n",
       "count  20640.000000  20640.000000        20640.000000  20640.000000   \n",
       "mean    -119.569704     35.631861           28.639486   2635.763081   \n",
       "std        2.003532      2.135952           12.585558   2181.615252   \n",
       "min     -124.350000     32.540000            1.000000      2.000000   \n",
       "25%     -121.800000     33.930000           18.000000   1447.750000   \n",
       "50%     -118.490000     34.260000           29.000000   2127.000000   \n",
       "75%     -118.010000     37.710000           37.000000   3148.000000   \n",
       "max     -114.310000     41.950000           52.000000  39320.000000   \n",
       "\n",
       "       total_bedrooms    population    households  median_income  \\\n",
       "count    20433.000000  20640.000000  20640.000000   20640.000000   \n",
       "mean       537.870553   1425.476744    499.539680       3.870671   \n",
       "std        421.385070   1132.462122    382.329753       1.899822   \n",
       "min          1.000000      3.000000      1.000000       0.499900   \n",
       "25%        296.000000    787.000000    280.000000       2.563400   \n",
       "50%        435.000000   1166.000000    409.000000       3.534800   \n",
       "75%        647.000000   1725.000000    605.000000       4.743250   \n",
       "max       6445.000000  35682.000000   6082.000000      15.000100   \n",
       "\n",
       "       median_house_value  \n",
       "count        20640.000000  \n",
       "mean        206855.816909  \n",
       "std         115395.615874  \n",
       "min          14999.000000  \n",
       "25%         119600.000000  \n",
       "50%         179700.000000  \n",
       "75%         264725.000000  \n",
       "max         500001.000000  "
      ]
     },
     "execution_count": 8,
     "metadata": {},
     "output_type": "execute_result"
    }
   ],
   "source": [
    "df_housing.describe()"
   ]
  },
  {
   "cell_type": "code",
   "execution_count": 9,
   "metadata": {},
   "outputs": [
    {
     "data": {
      "text/plain": [
       "<AxesSubplot:>"
      ]
     },
     "execution_count": 9,
     "metadata": {},
     "output_type": "execute_result"
    },
    {
     "data": {
      "image/png": "[encoded data removed]",
      "text/plain": [
       "<Figure size 432x288 with 1 Axes>"
      ]
     },
     "metadata": {
      "needs_background": "light"
     },
     "output_type": "display_data"
    }
   ],
   "source": [
    "# Median income is an important factor that determines the price of homes\n",
    "df_housing['median_income'].hist()"
   ]
  },
  {
   "cell_type": "code",
   "execution_count": 10,
   "metadata": {},
   "outputs": [
    {
     "data": {
      "text/plain": [
       "3    7236\n",
       "2    6581\n",
       "4    3639\n",
       "5    2362\n",
       "1     822\n",
       "Name: income_category, dtype: int64"
      ]
     },
     "execution_count": 10,
     "metadata": {},
     "output_type": "execute_result"
    }
   ],
   "source": [
    "# Lets bin the above data for better visualization\n",
    "# Create a new column 'Income_category'\n",
    "# np.inf means infinity\n",
    "df_housing['income_category'] = pd.cut(df_housing['median_income'],\n",
    "                                        bins=[0., 1.5, 3., 4.5, 6., np.inf],\n",
    "                                        labels=[1,2,3,4,5])\n",
    "df_housing['income_category'].value_counts()"
   ]
  },
  {
   "cell_type": "code",
   "execution_count": 11,
   "metadata": {},
   "outputs": [
    {
     "data": {
      "text/plain": [
       "<AxesSubplot:>"
      ]
     },
     "execution_count": 11,
     "metadata": {},
     "output_type": "execute_result"
    },
    {
     "data": {
      "image/png": "[encoded data removed]",
      "text/plain": [
       "<Figure size 432x288 with 1 Axes>"
      ]
     },
     "metadata": {
      "needs_background": "light"
     },
     "output_type": "display_data"
    }
   ],
   "source": [
    "df_housing['income_category'].hist()"
   ]
  },
  {
   "cell_type": "code",
   "execution_count": 12,
   "metadata": {},
   "outputs": [
    {
     "data": {
      "text/plain": [
       "0        8.3252\n",
       "1        8.3014\n",
       "2        7.2574\n",
       "3        5.6431\n",
       "4        3.8462\n",
       "          ...  \n",
       "20635    1.5603\n",
       "20636    2.5568\n",
       "20637    1.7000\n",
       "20638    1.8672\n",
       "20639    2.3886\n",
       "Name: median_income, Length: 20640, dtype: float64"
      ]
     },
     "execution_count": 12,
     "metadata": {},
     "output_type": "execute_result"
    }
   ],
   "source": [
    "df_housing['median_income']"
   ]
  },
  {
   "cell_type": "markdown",
   "metadata": {},
   "source": [
    "### **Define target and predictor variables**"
   ]
  },
  {
   "cell_type": "code",
   "execution_count": 13,
   "metadata": {},
   "outputs": [
    {
     "data": {
      "text/html": [
       "<div>\n",
       "<style scoped>\n",
       "    .dataframe tbody tr th:only-of-type {\n",
       "        vertical-align: middle;\n",
       "    }\n",
       "\n",
       "    .dataframe tbody tr th {\n",
       "        vertical-align: top;\n",
       "    }\n",
       "\n",
       "    .dataframe thead th {\n",
       "        text-align: right;\n",
       "    }\n",
       "</style>\n",
       "<table border=\"1\" class=\"dataframe\">\n",
       "  <thead>\n",
       "    <tr style=\"text-align: right;\">\n",
       "      <th></th>\n",
       "      <th>longitude</th>\n",
       "      <th>latitude</th>\n",
       "      <th>housing_median_age</th>\n",
       "      <th>total_rooms</th>\n",
       "      <th>total_bedrooms</th>\n",
       "      <th>population</th>\n",
       "      <th>households</th>\n",
       "      <th>median_income</th>\n",
       "      <th>ocean_proximity</th>\n",
       "      <th>income_category</th>\n",
       "    </tr>\n",
       "  </thead>\n",
       "  <tbody>\n",
       "    <tr>\n",
       "      <th>0</th>\n",
       "      <td>-122.23</td>\n",
       "      <td>37.88</td>\n",
       "      <td>41.0</td>\n",
       "      <td>880.0</td>\n",
       "      <td>129.0</td>\n",
       "      <td>322.0</td>\n",
       "      <td>126.0</td>\n",
       "      <td>8.3252</td>\n",
       "      <td>NEAR BAY</td>\n",
       "      <td>5</td>\n",
       "    </tr>\n",
       "    <tr>\n",
       "      <th>1</th>\n",
       "      <td>-122.22</td>\n",
       "      <td>37.86</td>\n",
       "      <td>21.0</td>\n",
       "      <td>7099.0</td>\n",
       "      <td>1106.0</td>\n",
       "      <td>2401.0</td>\n",
       "      <td>1138.0</td>\n",
       "      <td>8.3014</td>\n",
       "      <td>NEAR BAY</td>\n",
       "      <td>5</td>\n",
       "    </tr>\n",
       "    <tr>\n",
       "      <th>2</th>\n",
       "      <td>-122.24</td>\n",
       "      <td>37.85</td>\n",
       "      <td>52.0</td>\n",
       "      <td>1467.0</td>\n",
       "      <td>190.0</td>\n",
       "      <td>496.0</td>\n",
       "      <td>177.0</td>\n",
       "      <td>7.2574</td>\n",
       "      <td>NEAR BAY</td>\n",
       "      <td>5</td>\n",
       "    </tr>\n",
       "    <tr>\n",
       "      <th>3</th>\n",
       "      <td>-122.25</td>\n",
       "      <td>37.85</td>\n",
       "      <td>52.0</td>\n",
       "      <td>1274.0</td>\n",
       "      <td>235.0</td>\n",
       "      <td>558.0</td>\n",
       "      <td>219.0</td>\n",
       "      <td>5.6431</td>\n",
       "      <td>NEAR BAY</td>\n",
       "      <td>4</td>\n",
       "    </tr>\n",
       "    <tr>\n",
       "      <th>4</th>\n",
       "      <td>-122.25</td>\n",
       "      <td>37.85</td>\n",
       "      <td>52.0</td>\n",
       "      <td>1627.0</td>\n",
       "      <td>280.0</td>\n",
       "      <td>565.0</td>\n",
       "      <td>259.0</td>\n",
       "      <td>3.8462</td>\n",
       "      <td>NEAR BAY</td>\n",
       "      <td>3</td>\n",
       "    </tr>\n",
       "    <tr>\n",
       "      <th>...</th>\n",
       "      <td>...</td>\n",
       "      <td>...</td>\n",
       "      <td>...</td>\n",
       "      <td>...</td>\n",
       "      <td>...</td>\n",
       "      <td>...</td>\n",
       "      <td>...</td>\n",
       "      <td>...</td>\n",
       "      <td>...</td>\n",
       "      <td>...</td>\n",
       "    </tr>\n",
       "    <tr>\n",
       "      <th>20635</th>\n",
       "      <td>-121.09</td>\n",
       "      <td>39.48</td>\n",
       "      <td>25.0</td>\n",
       "      <td>1665.0</td>\n",
       "      <td>374.0</td>\n",
       "      <td>845.0</td>\n",
       "      <td>330.0</td>\n",
       "      <td>1.5603</td>\n",
       "      <td>INLAND</td>\n",
       "      <td>2</td>\n",
       "    </tr>\n",
       "    <tr>\n",
       "      <th>20636</th>\n",
       "      <td>-121.21</td>\n",
       "      <td>39.49</td>\n",
       "      <td>18.0</td>\n",
       "      <td>697.0</td>\n",
       "      <td>150.0</td>\n",
       "      <td>356.0</td>\n",
       "      <td>114.0</td>\n",
       "      <td>2.5568</td>\n",
       "      <td>INLAND</td>\n",
       "      <td>2</td>\n",
       "    </tr>\n",
       "    <tr>\n",
       "      <th>20637</th>\n",
       "      <td>-121.22</td>\n",
       "      <td>39.43</td>\n",
       "      <td>17.0</td>\n",
       "      <td>2254.0</td>\n",
       "      <td>485.0</td>\n",
       "      <td>1007.0</td>\n",
       "      <td>433.0</td>\n",
       "      <td>1.7000</td>\n",
       "      <td>INLAND</td>\n",
       "      <td>2</td>\n",
       "    </tr>\n",
       "    <tr>\n",
       "      <th>20638</th>\n",
       "      <td>-121.32</td>\n",
       "      <td>39.43</td>\n",
       "      <td>18.0</td>\n",
       "      <td>1860.0</td>\n",
       "      <td>409.0</td>\n",
       "      <td>741.0</td>\n",
       "      <td>349.0</td>\n",
       "      <td>1.8672</td>\n",
       "      <td>INLAND</td>\n",
       "      <td>2</td>\n",
       "    </tr>\n",
       "    <tr>\n",
       "      <th>20639</th>\n",
       "      <td>-121.24</td>\n",
       "      <td>39.37</td>\n",
       "      <td>16.0</td>\n",
       "      <td>2785.0</td>\n",
       "      <td>616.0</td>\n",
       "      <td>1387.0</td>\n",
       "      <td>530.0</td>\n",
       "      <td>2.3886</td>\n",
       "      <td>INLAND</td>\n",
       "      <td>2</td>\n",
       "    </tr>\n",
       "  </tbody>\n",
       "</table>\n",
       "<p>20640 rows × 10 columns</p>\n",
       "</div>"
      ],
      "text/plain": [
       "       longitude  latitude  housing_median_age  total_rooms  total_bedrooms  \\\n",
       "0        -122.23     37.88                41.0        880.0           129.0   \n",
       "1        -122.22     37.86                21.0       7099.0          1106.0   \n",
       "2        -122.24     37.85                52.0       1467.0           190.0   \n",
       "3        -122.25     37.85                52.0       1274.0           235.0   \n",
       "4        -122.25     37.85                52.0       1627.0           280.0   \n",
       "...          ...       ...                 ...          ...             ...   \n",
       "20635    -121.09     39.48                25.0       1665.0           374.0   \n",
       "20636    -121.21     39.49                18.0        697.0           150.0   \n",
       "20637    -121.22     39.43                17.0       2254.0           485.0   \n",
       "20638    -121.32     39.43                18.0       1860.0           409.0   \n",
       "20639    -121.24     39.37                16.0       2785.0           616.0   \n",
       "\n",
       "       population  households  median_income ocean_proximity income_category  \n",
       "0           322.0       126.0         8.3252        NEAR BAY               5  \n",
       "1          2401.0      1138.0         8.3014        NEAR BAY               5  \n",
       "2           496.0       177.0         7.2574        NEAR BAY               5  \n",
       "3           558.0       219.0         5.6431        NEAR BAY               4  \n",
       "4           565.0       259.0         3.8462        NEAR BAY               3  \n",
       "...           ...         ...            ...             ...             ...  \n",
       "20635       845.0       330.0         1.5603          INLAND               2  \n",
       "20636       356.0       114.0         2.5568          INLAND               2  \n",
       "20637      1007.0       433.0         1.7000          INLAND               2  \n",
       "20638       741.0       349.0         1.8672          INLAND               2  \n",
       "20639      1387.0       530.0         2.3886          INLAND               2  \n",
       "\n",
       "[20640 rows x 10 columns]"
      ]
     },
     "execution_count": 13,
     "metadata": {},
     "output_type": "execute_result"
    }
   ],
   "source": [
    "y = df_housing['median_house_value']\n",
    "X = df_housing.drop('median_house_value',axis=1)\n",
    "X"
   ]
  },
  {
   "cell_type": "markdown",
   "metadata": {},
   "source": [
    "### **Split the data set**"
   ]
  },
  {
   "cell_type": "code",
   "execution_count": 14,
   "metadata": {},
   "outputs": [
    {
     "data": {
      "text/html": [
       "<div>\n",
       "<style scoped>\n",
       "    .dataframe tbody tr th:only-of-type {\n",
       "        vertical-align: middle;\n",
       "    }\n",
       "\n",
       "    .dataframe tbody tr th {\n",
       "        vertical-align: top;\n",
       "    }\n",
       "\n",
       "    .dataframe thead th {\n",
       "        text-align: right;\n",
       "    }\n",
       "</style>\n",
       "<table border=\"1\" class=\"dataframe\">\n",
       "  <thead>\n",
       "    <tr style=\"text-align: right;\">\n",
       "      <th></th>\n",
       "      <th>longitude</th>\n",
       "      <th>latitude</th>\n",
       "      <th>housing_median_age</th>\n",
       "      <th>total_rooms</th>\n",
       "      <th>total_bedrooms</th>\n",
       "      <th>population</th>\n",
       "      <th>households</th>\n",
       "      <th>median_income</th>\n",
       "      <th>ocean_proximity</th>\n",
       "      <th>income_category</th>\n",
       "    </tr>\n",
       "  </thead>\n",
       "  <tbody>\n",
       "    <tr>\n",
       "      <th>16967</th>\n",
       "      <td>-122.31</td>\n",
       "      <td>37.54</td>\n",
       "      <td>49.0</td>\n",
       "      <td>1340.0</td>\n",
       "      <td>281.0</td>\n",
       "      <td>660.0</td>\n",
       "      <td>284.0</td>\n",
       "      <td>4.1630</td>\n",
       "      <td>NEAR OCEAN</td>\n",
       "      <td>3</td>\n",
       "    </tr>\n",
       "    <tr>\n",
       "      <th>5305</th>\n",
       "      <td>-118.46</td>\n",
       "      <td>34.07</td>\n",
       "      <td>42.0</td>\n",
       "      <td>2564.0</td>\n",
       "      <td>460.0</td>\n",
       "      <td>913.0</td>\n",
       "      <td>414.0</td>\n",
       "      <td>9.2225</td>\n",
       "      <td>&lt;1H OCEAN</td>\n",
       "      <td>5</td>\n",
       "    </tr>\n",
       "    <tr>\n",
       "      <th>6961</th>\n",
       "      <td>-118.04</td>\n",
       "      <td>33.99</td>\n",
       "      <td>36.0</td>\n",
       "      <td>3531.0</td>\n",
       "      <td>754.0</td>\n",
       "      <td>1613.0</td>\n",
       "      <td>697.0</td>\n",
       "      <td>3.2359</td>\n",
       "      <td>&lt;1H OCEAN</td>\n",
       "      <td>3</td>\n",
       "    </tr>\n",
       "    <tr>\n",
       "      <th>5725</th>\n",
       "      <td>-118.22</td>\n",
       "      <td>34.19</td>\n",
       "      <td>36.0</td>\n",
       "      <td>959.0</td>\n",
       "      <td>204.0</td>\n",
       "      <td>446.0</td>\n",
       "      <td>210.0</td>\n",
       "      <td>3.2150</td>\n",
       "      <td>&lt;1H OCEAN</td>\n",
       "      <td>3</td>\n",
       "    </tr>\n",
       "    <tr>\n",
       "      <th>19969</th>\n",
       "      <td>-119.09</td>\n",
       "      <td>36.21</td>\n",
       "      <td>38.0</td>\n",
       "      <td>1901.0</td>\n",
       "      <td>453.0</td>\n",
       "      <td>1613.0</td>\n",
       "      <td>400.0</td>\n",
       "      <td>1.8828</td>\n",
       "      <td>INLAND</td>\n",
       "      <td>2</td>\n",
       "    </tr>\n",
       "    <tr>\n",
       "      <th>...</th>\n",
       "      <td>...</td>\n",
       "      <td>...</td>\n",
       "      <td>...</td>\n",
       "      <td>...</td>\n",
       "      <td>...</td>\n",
       "      <td>...</td>\n",
       "      <td>...</td>\n",
       "      <td>...</td>\n",
       "      <td>...</td>\n",
       "      <td>...</td>\n",
       "    </tr>\n",
       "    <tr>\n",
       "      <th>13653</th>\n",
       "      <td>-117.33</td>\n",
       "      <td>34.03</td>\n",
       "      <td>14.0</td>\n",
       "      <td>1582.0</td>\n",
       "      <td>347.0</td>\n",
       "      <td>825.0</td>\n",
       "      <td>259.0</td>\n",
       "      <td>2.8281</td>\n",
       "      <td>INLAND</td>\n",
       "      <td>2</td>\n",
       "    </tr>\n",
       "    <tr>\n",
       "      <th>8803</th>\n",
       "      <td>-118.40</td>\n",
       "      <td>33.78</td>\n",
       "      <td>26.0</td>\n",
       "      <td>5005.0</td>\n",
       "      <td>776.0</td>\n",
       "      <td>2357.0</td>\n",
       "      <td>790.0</td>\n",
       "      <td>8.5421</td>\n",
       "      <td>NEAR OCEAN</td>\n",
       "      <td>5</td>\n",
       "    </tr>\n",
       "    <tr>\n",
       "      <th>16987</th>\n",
       "      <td>-122.26</td>\n",
       "      <td>37.55</td>\n",
       "      <td>17.0</td>\n",
       "      <td>1321.0</td>\n",
       "      <td>425.0</td>\n",
       "      <td>683.0</td>\n",
       "      <td>408.0</td>\n",
       "      <td>4.7045</td>\n",
       "      <td>NEAR BAY</td>\n",
       "      <td>4</td>\n",
       "    </tr>\n",
       "    <tr>\n",
       "      <th>2379</th>\n",
       "      <td>-119.55</td>\n",
       "      <td>36.72</td>\n",
       "      <td>6.0</td>\n",
       "      <td>1186.0</td>\n",
       "      <td>234.0</td>\n",
       "      <td>1135.0</td>\n",
       "      <td>218.0</td>\n",
       "      <td>2.1515</td>\n",
       "      <td>INLAND</td>\n",
       "      <td>2</td>\n",
       "    </tr>\n",
       "    <tr>\n",
       "      <th>8033</th>\n",
       "      <td>-118.14</td>\n",
       "      <td>33.84</td>\n",
       "      <td>43.0</td>\n",
       "      <td>2107.0</td>\n",
       "      <td>439.0</td>\n",
       "      <td>876.0</td>\n",
       "      <td>429.0</td>\n",
       "      <td>3.2024</td>\n",
       "      <td>&lt;1H OCEAN</td>\n",
       "      <td>3</td>\n",
       "    </tr>\n",
       "  </tbody>\n",
       "</table>\n",
       "<p>13828 rows × 10 columns</p>\n",
       "</div>"
      ],
      "text/plain": [
       "       longitude  latitude  housing_median_age  total_rooms  total_bedrooms  \\\n",
       "16967    -122.31     37.54                49.0       1340.0           281.0   \n",
       "5305     -118.46     34.07                42.0       2564.0           460.0   \n",
       "6961     -118.04     33.99                36.0       3531.0           754.0   \n",
       "5725     -118.22     34.19                36.0        959.0           204.0   \n",
       "19969    -119.09     36.21                38.0       1901.0           453.0   \n",
       "...          ...       ...                 ...          ...             ...   \n",
       "13653    -117.33     34.03                14.0       1582.0           347.0   \n",
       "8803     -118.40     33.78                26.0       5005.0           776.0   \n",
       "16987    -122.26     37.55                17.0       1321.0           425.0   \n",
       "2379     -119.55     36.72                 6.0       1186.0           234.0   \n",
       "8033     -118.14     33.84                43.0       2107.0           439.0   \n",
       "\n",
       "       population  households  median_income ocean_proximity income_category  \n",
       "16967       660.0       284.0         4.1630      NEAR OCEAN               3  \n",
       "5305        913.0       414.0         9.2225       <1H OCEAN               5  \n",
       "6961       1613.0       697.0         3.2359       <1H OCEAN               3  \n",
       "5725        446.0       210.0         3.2150       <1H OCEAN               3  \n",
       "19969      1613.0       400.0         1.8828          INLAND               2  \n",
       "...           ...         ...            ...             ...             ...  \n",
       "13653       825.0       259.0         2.8281          INLAND               2  \n",
       "8803       2357.0       790.0         8.5421      NEAR OCEAN               5  \n",
       "16987       683.0       408.0         4.7045        NEAR BAY               4  \n",
       "2379       1135.0       218.0         2.1515          INLAND               2  \n",
       "8033        876.0       429.0         3.2024       <1H OCEAN               3  \n",
       "\n",
       "[13828 rows x 10 columns]"
      ]
     },
     "execution_count": 14,
     "metadata": {},
     "output_type": "execute_result"
    }
   ],
   "source": [
    "from sklearn.model_selection import train_test_split\n",
    "\n",
    "X_train, X_test, y_train, y_test = train_test_split(X, y, test_size=0.33)\n",
    "X_train"
   ]
  },
  {
   "cell_type": "markdown",
   "metadata": {},
   "source": [
    "#### We have to check if the values in the training set is equally distributed as in the testing set for accurate predictions. We do this with the median income category as it is an important predictor."
   ]
  },
  {
   "cell_type": "code",
   "execution_count": 17,
   "metadata": {},
   "outputs": [
    {
     "data": {
      "text/plain": [
       "<AxesSubplot:>"
      ]
     },
     "execution_count": 17,
     "metadata": {},
     "output_type": "execute_result"
    },
    {
     "data": {
      "image/png": "[encoded data removed]",
      "text/plain": [
       "<Figure size 432x288 with 1 Axes>"
      ]
     },
     "metadata": {
      "needs_background": "light"
     },
     "output_type": "display_data"
    }
   ],
   "source": [
    "df_housing['income_category'].hist()"
   ]
  },
  {
   "cell_type": "code",
   "execution_count": 18,
   "metadata": {},
   "outputs": [
    {
     "data": {
      "text/plain": [
       "<AxesSubplot:>"
      ]
     },
     "execution_count": 18,
     "metadata": {},
     "output_type": "execute_result"
    },
    {
     "data": {
      "image/png": "[encoded data removed]",
      "text/plain": [
       "<Figure size 432x288 with 1 Axes>"
      ]
     },
     "metadata": {
      "needs_background": "light"
     },
     "output_type": "display_data"
    }
   ],
   "source": [
    "X_train['income_category'].hist()"
   ]
  },
  {
   "cell_type": "markdown",
   "metadata": {},
   "source": [
    "#### Although the above visuals indicate equal distribution of data between training and testing set, we can also use Stratified split to ensure this."
   ]
  },
  {
   "cell_type": "markdown",
   "metadata": {},
   "source": [
    "### **Stratified split**"
   ]
  },
  {
   "cell_type": "code",
   "execution_count": 19,
   "metadata": {},
   "outputs": [],
   "source": [
    "from sklearn.model_selection import StratifiedShuffleSplit\n",
    "\n",
    "# The below block of code will split the data based on income category evenly between training and testing set\n",
    "split = StratifiedShuffleSplit(n_splits=1, test_size=0.33, random_state=42)\n",
    "\n",
    "for train_index, test_index in split.split(df_housing, df_housing['income_category']):\n",
    "   strat_train_set = df_housing.loc[train_index]\n",
    "   strat_test_set = df_housing.loc[test_index]"
   ]
  },
  {
   "cell_type": "code",
   "execution_count": 20,
   "metadata": {},
   "outputs": [
    {
     "data": {
      "text/html": [
       "<div>\n",
       "<style scoped>\n",
       "    .dataframe tbody tr th:only-of-type {\n",
       "        vertical-align: middle;\n",
       "    }\n",
       "\n",
       "    .dataframe tbody tr th {\n",
       "        vertical-align: top;\n",
       "    }\n",
       "\n",
       "    .dataframe thead th {\n",
       "        text-align: right;\n",
       "    }\n",
       "</style>\n",
       "<table border=\"1\" class=\"dataframe\">\n",
       "  <thead>\n",
       "    <tr style=\"text-align: right;\">\n",
       "      <th></th>\n",
       "      <th>longitude</th>\n",
       "      <th>latitude</th>\n",
       "      <th>housing_median_age</th>\n",
       "      <th>total_rooms</th>\n",
       "      <th>total_bedrooms</th>\n",
       "      <th>population</th>\n",
       "      <th>households</th>\n",
       "      <th>median_income</th>\n",
       "      <th>median_house_value</th>\n",
       "      <th>ocean_proximity</th>\n",
       "      <th>income_category</th>\n",
       "    </tr>\n",
       "  </thead>\n",
       "  <tbody>\n",
       "    <tr>\n",
       "      <th>13325</th>\n",
       "      <td>-117.63</td>\n",
       "      <td>34.06</td>\n",
       "      <td>39.0</td>\n",
       "      <td>1210.0</td>\n",
       "      <td>310.0</td>\n",
       "      <td>1294.0</td>\n",
       "      <td>303.0</td>\n",
       "      <td>2.3636</td>\n",
       "      <td>88300.0</td>\n",
       "      <td>INLAND</td>\n",
       "      <td>2</td>\n",
       "    </tr>\n",
       "    <tr>\n",
       "      <th>20355</th>\n",
       "      <td>-118.96</td>\n",
       "      <td>34.19</td>\n",
       "      <td>16.0</td>\n",
       "      <td>1807.0</td>\n",
       "      <td>346.0</td>\n",
       "      <td>587.0</td>\n",
       "      <td>296.0</td>\n",
       "      <td>1.9811</td>\n",
       "      <td>162500.0</td>\n",
       "      <td>&lt;1H OCEAN</td>\n",
       "      <td>2</td>\n",
       "    </tr>\n",
       "    <tr>\n",
       "      <th>7481</th>\n",
       "      <td>-118.23</td>\n",
       "      <td>33.93</td>\n",
       "      <td>23.0</td>\n",
       "      <td>545.0</td>\n",
       "      <td>131.0</td>\n",
       "      <td>610.0</td>\n",
       "      <td>126.0</td>\n",
       "      <td>1.4861</td>\n",
       "      <td>95100.0</td>\n",
       "      <td>&lt;1H OCEAN</td>\n",
       "      <td>1</td>\n",
       "    </tr>\n",
       "    <tr>\n",
       "      <th>15465</th>\n",
       "      <td>-117.22</td>\n",
       "      <td>33.18</td>\n",
       "      <td>13.0</td>\n",
       "      <td>4273.0</td>\n",
       "      <td>886.0</td>\n",
       "      <td>2328.0</td>\n",
       "      <td>801.0</td>\n",
       "      <td>3.3444</td>\n",
       "      <td>183900.0</td>\n",
       "      <td>&lt;1H OCEAN</td>\n",
       "      <td>3</td>\n",
       "    </tr>\n",
       "    <tr>\n",
       "      <th>18116</th>\n",
       "      <td>-122.02</td>\n",
       "      <td>37.30</td>\n",
       "      <td>32.0</td>\n",
       "      <td>2134.0</td>\n",
       "      <td>328.0</td>\n",
       "      <td>903.0</td>\n",
       "      <td>322.0</td>\n",
       "      <td>6.3590</td>\n",
       "      <td>341900.0</td>\n",
       "      <td>&lt;1H OCEAN</td>\n",
       "      <td>5</td>\n",
       "    </tr>\n",
       "    <tr>\n",
       "      <th>...</th>\n",
       "      <td>...</td>\n",
       "      <td>...</td>\n",
       "      <td>...</td>\n",
       "      <td>...</td>\n",
       "      <td>...</td>\n",
       "      <td>...</td>\n",
       "      <td>...</td>\n",
       "      <td>...</td>\n",
       "      <td>...</td>\n",
       "      <td>...</td>\n",
       "      <td>...</td>\n",
       "    </tr>\n",
       "    <tr>\n",
       "      <th>994</th>\n",
       "      <td>-121.73</td>\n",
       "      <td>37.71</td>\n",
       "      <td>12.0</td>\n",
       "      <td>5608.0</td>\n",
       "      <td>1049.0</td>\n",
       "      <td>2595.0</td>\n",
       "      <td>1067.0</td>\n",
       "      <td>3.9864</td>\n",
       "      <td>200200.0</td>\n",
       "      <td>INLAND</td>\n",
       "      <td>3</td>\n",
       "    </tr>\n",
       "    <tr>\n",
       "      <th>5377</th>\n",
       "      <td>-118.39</td>\n",
       "      <td>34.04</td>\n",
       "      <td>49.0</td>\n",
       "      <td>1230.0</td>\n",
       "      <td>279.0</td>\n",
       "      <td>669.0</td>\n",
       "      <td>269.0</td>\n",
       "      <td>3.9038</td>\n",
       "      <td>308300.0</td>\n",
       "      <td>&lt;1H OCEAN</td>\n",
       "      <td>3</td>\n",
       "    </tr>\n",
       "    <tr>\n",
       "      <th>5448</th>\n",
       "      <td>-118.42</td>\n",
       "      <td>34.01</td>\n",
       "      <td>29.0</td>\n",
       "      <td>1996.0</td>\n",
       "      <td>489.0</td>\n",
       "      <td>960.0</td>\n",
       "      <td>449.0</td>\n",
       "      <td>3.6611</td>\n",
       "      <td>344200.0</td>\n",
       "      <td>&lt;1H OCEAN</td>\n",
       "      <td>3</td>\n",
       "    </tr>\n",
       "    <tr>\n",
       "      <th>9813</th>\n",
       "      <td>-121.92</td>\n",
       "      <td>36.61</td>\n",
       "      <td>29.0</td>\n",
       "      <td>3735.0</td>\n",
       "      <td>808.0</td>\n",
       "      <td>1873.0</td>\n",
       "      <td>757.0</td>\n",
       "      <td>3.1543</td>\n",
       "      <td>253800.0</td>\n",
       "      <td>NEAR OCEAN</td>\n",
       "      <td>3</td>\n",
       "    </tr>\n",
       "    <tr>\n",
       "      <th>11752</th>\n",
       "      <td>-121.21</td>\n",
       "      <td>38.76</td>\n",
       "      <td>16.0</td>\n",
       "      <td>1608.0</td>\n",
       "      <td>296.0</td>\n",
       "      <td>792.0</td>\n",
       "      <td>286.0</td>\n",
       "      <td>3.1583</td>\n",
       "      <td>239200.0</td>\n",
       "      <td>INLAND</td>\n",
       "      <td>3</td>\n",
       "    </tr>\n",
       "  </tbody>\n",
       "</table>\n",
       "<p>13828 rows × 11 columns</p>\n",
       "</div>"
      ],
      "text/plain": [
       "       longitude  latitude  housing_median_age  total_rooms  total_bedrooms  \\\n",
       "13325    -117.63     34.06                39.0       1210.0           310.0   \n",
       "20355    -118.96     34.19                16.0       1807.0           346.0   \n",
       "7481     -118.23     33.93                23.0        545.0           131.0   \n",
       "15465    -117.22     33.18                13.0       4273.0           886.0   \n",
       "18116    -122.02     37.30                32.0       2134.0           328.0   \n",
       "...          ...       ...                 ...          ...             ...   \n",
       "994      -121.73     37.71                12.0       5608.0          1049.0   \n",
       "5377     -118.39     34.04                49.0       1230.0           279.0   \n",
       "5448     -118.42     34.01                29.0       1996.0           489.0   \n",
       "9813     -121.92     36.61                29.0       3735.0           808.0   \n",
       "11752    -121.21     38.76                16.0       1608.0           296.0   \n",
       "\n",
       "       population  households  median_income  median_house_value  \\\n",
       "13325      1294.0       303.0         2.3636             88300.0   \n",
       "20355       587.0       296.0         1.9811            162500.0   \n",
       "7481        610.0       126.0         1.4861             95100.0   \n",
       "15465      2328.0       801.0         3.3444            183900.0   \n",
       "18116       903.0       322.0         6.3590            341900.0   \n",
       "...           ...         ...            ...                 ...   \n",
       "994        2595.0      1067.0         3.9864            200200.0   \n",
       "5377        669.0       269.0         3.9038            308300.0   \n",
       "5448        960.0       449.0         3.6611            344200.0   \n",
       "9813       1873.0       757.0         3.1543            253800.0   \n",
       "11752       792.0       286.0         3.1583            239200.0   \n",
       "\n",
       "      ocean_proximity income_category  \n",
       "13325          INLAND               2  \n",
       "20355       <1H OCEAN               2  \n",
       "7481        <1H OCEAN               1  \n",
       "15465       <1H OCEAN               3  \n",
       "18116       <1H OCEAN               5  \n",
       "...               ...             ...  \n",
       "994            INLAND               3  \n",
       "5377        <1H OCEAN               3  \n",
       "5448        <1H OCEAN               3  \n",
       "9813       NEAR OCEAN               3  \n",
       "11752          INLAND               3  \n",
       "\n",
       "[13828 rows x 11 columns]"
      ]
     },
     "execution_count": 20,
     "metadata": {},
     "output_type": "execute_result"
    }
   ],
   "source": [
    "strat_train_set"
   ]
  },
  {
   "cell_type": "markdown",
   "metadata": {},
   "source": [
    "#### To verify the even distribution of data b/w train & test set, we have to compare the strat test set with the entire df_housing data set "
   ]
  },
  {
   "cell_type": "code",
   "execution_count": 21,
   "metadata": {},
   "outputs": [
    {
     "data": {
      "text/plain": [
       "3    0.350558\n",
       "2    0.318849\n",
       "4    0.176307\n",
       "5    0.114504\n",
       "1    0.039783\n",
       "Name: income_category, dtype: float64"
      ]
     },
     "execution_count": 21,
     "metadata": {},
     "output_type": "execute_result"
    }
   ],
   "source": [
    "# len() gives the no of entries or rows in the dataset\n",
    "strat_test_set['income_category'].value_counts() / len(strat_test_set)"
   ]
  },
  {
   "cell_type": "code",
   "execution_count": 22,
   "metadata": {},
   "outputs": [
    {
     "data": {
      "text/plain": [
       "3    0.350581\n",
       "2    0.318847\n",
       "4    0.176308\n",
       "5    0.114438\n",
       "1    0.039826\n",
       "Name: income_category, dtype: float64"
      ]
     },
     "execution_count": 22,
     "metadata": {},
     "output_type": "execute_result"
    }
   ],
   "source": [
    "# We observe that for the same categories, we are getting the same distribution of values\n",
    "df_housing['income_category'].value_counts() / len(df_housing)"
   ]
  },
  {
   "cell_type": "code",
   "execution_count": 23,
   "metadata": {},
   "outputs": [],
   "source": [
    "# We don't require income category anymore\n",
    "strat_test_set.drop('income_category', axis='columns', inplace=True)\n",
    "strat_train_set.drop('income_category', axis='columns', inplace=True)"
   ]
  },
  {
   "cell_type": "markdown",
   "metadata": {},
   "source": [
    "#### Visualizing data is very important because some datasets might have the same mean, medain and mode, but are completely different. "
   ]
  },
  {
   "cell_type": "markdown",
   "metadata": {},
   "source": [
    "### **Visualizing data**"
   ]
  },
  {
   "cell_type": "code",
   "execution_count": 24,
   "metadata": {},
   "outputs": [
    {
     "data": {
      "text/html": [
       "<div>\n",
       "<style scoped>\n",
       "    .dataframe tbody tr th:only-of-type {\n",
       "        vertical-align: middle;\n",
       "    }\n",
       "\n",
       "    .dataframe tbody tr th {\n",
       "        vertical-align: top;\n",
       "    }\n",
       "\n",
       "    .dataframe thead th {\n",
       "        text-align: right;\n",
       "    }\n",
       "</style>\n",
       "<table border=\"1\" class=\"dataframe\">\n",
       "  <thead>\n",
       "    <tr style=\"text-align: right;\">\n",
       "      <th></th>\n",
       "      <th>longitude</th>\n",
       "      <th>latitude</th>\n",
       "      <th>housing_median_age</th>\n",
       "      <th>total_rooms</th>\n",
       "      <th>total_bedrooms</th>\n",
       "      <th>population</th>\n",
       "      <th>households</th>\n",
       "      <th>median_income</th>\n",
       "      <th>median_house_value</th>\n",
       "      <th>ocean_proximity</th>\n",
       "    </tr>\n",
       "  </thead>\n",
       "  <tbody>\n",
       "    <tr>\n",
       "      <th>13325</th>\n",
       "      <td>-117.63</td>\n",
       "      <td>34.06</td>\n",
       "      <td>39.0</td>\n",
       "      <td>1210.0</td>\n",
       "      <td>310.0</td>\n",
       "      <td>1294.0</td>\n",
       "      <td>303.0</td>\n",
       "      <td>2.3636</td>\n",
       "      <td>88300.0</td>\n",
       "      <td>INLAND</td>\n",
       "    </tr>\n",
       "    <tr>\n",
       "      <th>20355</th>\n",
       "      <td>-118.96</td>\n",
       "      <td>34.19</td>\n",
       "      <td>16.0</td>\n",
       "      <td>1807.0</td>\n",
       "      <td>346.0</td>\n",
       "      <td>587.0</td>\n",
       "      <td>296.0</td>\n",
       "      <td>1.9811</td>\n",
       "      <td>162500.0</td>\n",
       "      <td>&lt;1H OCEAN</td>\n",
       "    </tr>\n",
       "    <tr>\n",
       "      <th>7481</th>\n",
       "      <td>-118.23</td>\n",
       "      <td>33.93</td>\n",
       "      <td>23.0</td>\n",
       "      <td>545.0</td>\n",
       "      <td>131.0</td>\n",
       "      <td>610.0</td>\n",
       "      <td>126.0</td>\n",
       "      <td>1.4861</td>\n",
       "      <td>95100.0</td>\n",
       "      <td>&lt;1H OCEAN</td>\n",
       "    </tr>\n",
       "    <tr>\n",
       "      <th>15465</th>\n",
       "      <td>-117.22</td>\n",
       "      <td>33.18</td>\n",
       "      <td>13.0</td>\n",
       "      <td>4273.0</td>\n",
       "      <td>886.0</td>\n",
       "      <td>2328.0</td>\n",
       "      <td>801.0</td>\n",
       "      <td>3.3444</td>\n",
       "      <td>183900.0</td>\n",
       "      <td>&lt;1H OCEAN</td>\n",
       "    </tr>\n",
       "    <tr>\n",
       "      <th>18116</th>\n",
       "      <td>-122.02</td>\n",
       "      <td>37.30</td>\n",
       "      <td>32.0</td>\n",
       "      <td>2134.0</td>\n",
       "      <td>328.0</td>\n",
       "      <td>903.0</td>\n",
       "      <td>322.0</td>\n",
       "      <td>6.3590</td>\n",
       "      <td>341900.0</td>\n",
       "      <td>&lt;1H OCEAN</td>\n",
       "    </tr>\n",
       "    <tr>\n",
       "      <th>...</th>\n",
       "      <td>...</td>\n",
       "      <td>...</td>\n",
       "      <td>...</td>\n",
       "      <td>...</td>\n",
       "      <td>...</td>\n",
       "      <td>...</td>\n",
       "      <td>...</td>\n",
       "      <td>...</td>\n",
       "      <td>...</td>\n",
       "      <td>...</td>\n",
       "    </tr>\n",
       "    <tr>\n",
       "      <th>994</th>\n",
       "      <td>-121.73</td>\n",
       "      <td>37.71</td>\n",
       "      <td>12.0</td>\n",
       "      <td>5608.0</td>\n",
       "      <td>1049.0</td>\n",
       "      <td>2595.0</td>\n",
       "      <td>1067.0</td>\n",
       "      <td>3.9864</td>\n",
       "      <td>200200.0</td>\n",
       "      <td>INLAND</td>\n",
       "    </tr>\n",
       "    <tr>\n",
       "      <th>5377</th>\n",
       "      <td>-118.39</td>\n",
       "      <td>34.04</td>\n",
       "      <td>49.0</td>\n",
       "      <td>1230.0</td>\n",
       "      <td>279.0</td>\n",
       "      <td>669.0</td>\n",
       "      <td>269.0</td>\n",
       "      <td>3.9038</td>\n",
       "      <td>308300.0</td>\n",
       "      <td>&lt;1H OCEAN</td>\n",
       "    </tr>\n",
       "    <tr>\n",
       "      <th>5448</th>\n",
       "      <td>-118.42</td>\n",
       "      <td>34.01</td>\n",
       "      <td>29.0</td>\n",
       "      <td>1996.0</td>\n",
       "      <td>489.0</td>\n",
       "      <td>960.0</td>\n",
       "      <td>449.0</td>\n",
       "      <td>3.6611</td>\n",
       "      <td>344200.0</td>\n",
       "      <td>&lt;1H OCEAN</td>\n",
       "    </tr>\n",
       "    <tr>\n",
       "      <th>9813</th>\n",
       "      <td>-121.92</td>\n",
       "      <td>36.61</td>\n",
       "      <td>29.0</td>\n",
       "      <td>3735.0</td>\n",
       "      <td>808.0</td>\n",
       "      <td>1873.0</td>\n",
       "      <td>757.0</td>\n",
       "      <td>3.1543</td>\n",
       "      <td>253800.0</td>\n",
       "      <td>NEAR OCEAN</td>\n",
       "    </tr>\n",
       "    <tr>\n",
       "      <th>11752</th>\n",
       "      <td>-121.21</td>\n",
       "      <td>38.76</td>\n",
       "      <td>16.0</td>\n",
       "      <td>1608.0</td>\n",
       "      <td>296.0</td>\n",
       "      <td>792.0</td>\n",
       "      <td>286.0</td>\n",
       "      <td>3.1583</td>\n",
       "      <td>239200.0</td>\n",
       "      <td>INLAND</td>\n",
       "    </tr>\n",
       "  </tbody>\n",
       "</table>\n",
       "<p>13828 rows × 10 columns</p>\n",
       "</div>"
      ],
      "text/plain": [
       "       longitude  latitude  housing_median_age  total_rooms  total_bedrooms  \\\n",
       "13325    -117.63     34.06                39.0       1210.0           310.0   \n",
       "20355    -118.96     34.19                16.0       1807.0           346.0   \n",
       "7481     -118.23     33.93                23.0        545.0           131.0   \n",
       "15465    -117.22     33.18                13.0       4273.0           886.0   \n",
       "18116    -122.02     37.30                32.0       2134.0           328.0   \n",
       "...          ...       ...                 ...          ...             ...   \n",
       "994      -121.73     37.71                12.0       5608.0          1049.0   \n",
       "5377     -118.39     34.04                49.0       1230.0           279.0   \n",
       "5448     -118.42     34.01                29.0       1996.0           489.0   \n",
       "9813     -121.92     36.61                29.0       3735.0           808.0   \n",
       "11752    -121.21     38.76                16.0       1608.0           296.0   \n",
       "\n",
       "       population  households  median_income  median_house_value  \\\n",
       "13325      1294.0       303.0         2.3636             88300.0   \n",
       "20355       587.0       296.0         1.9811            162500.0   \n",
       "7481        610.0       126.0         1.4861             95100.0   \n",
       "15465      2328.0       801.0         3.3444            183900.0   \n",
       "18116       903.0       322.0         6.3590            341900.0   \n",
       "...           ...         ...            ...                 ...   \n",
       "994        2595.0      1067.0         3.9864            200200.0   \n",
       "5377        669.0       269.0         3.9038            308300.0   \n",
       "5448        960.0       449.0         3.6611            344200.0   \n",
       "9813       1873.0       757.0         3.1543            253800.0   \n",
       "11752       792.0       286.0         3.1583            239200.0   \n",
       "\n",
       "      ocean_proximity  \n",
       "13325          INLAND  \n",
       "20355       <1H OCEAN  \n",
       "7481        <1H OCEAN  \n",
       "15465       <1H OCEAN  \n",
       "18116       <1H OCEAN  \n",
       "...               ...  \n",
       "994            INLAND  \n",
       "5377        <1H OCEAN  \n",
       "5448        <1H OCEAN  \n",
       "9813       NEAR OCEAN  \n",
       "11752          INLAND  \n",
       "\n",
       "[13828 rows x 10 columns]"
      ]
     },
     "execution_count": 24,
     "metadata": {},
     "output_type": "execute_result"
    }
   ],
   "source": [
    "housing = strat_train_set.copy()\n",
    "housing"
   ]
  },
  {
   "cell_type": "code",
   "execution_count": 25,
   "metadata": {},
   "outputs": [
    {
     "data": {
      "text/plain": [
       "array([[<AxesSubplot:title={'center':'longitude'}>,\n",
       "        <AxesSubplot:title={'center':'latitude'}>,\n",
       "        <AxesSubplot:title={'center':'housing_median_age'}>],\n",
       "       [<AxesSubplot:title={'center':'total_rooms'}>,\n",
       "        <AxesSubplot:title={'center':'total_bedrooms'}>,\n",
       "        <AxesSubplot:title={'center':'population'}>],\n",
       "       [<AxesSubplot:title={'center':'households'}>,\n",
       "        <AxesSubplot:title={'center':'median_income'}>,\n",
       "        <AxesSubplot:title={'center':'median_house_value'}>]],\n",
       "      dtype=object)"
      ]
     },
     "execution_count": 25,
     "metadata": {},
     "output_type": "execute_result"
    },
    {
     "data": {
      "image/png": "[encoded data removed]",
      "text/plain": [
       "<Figure size 1440x1080 with 9 Axes>"
      ]
     },
     "metadata": {
      "needs_background": "light"
     },
     "output_type": "display_data"
    }
   ],
   "source": [
    "housing.hist(bins=50, figsize=(20,15))"
   ]
  },
  {
   "cell_type": "code",
   "execution_count": 26,
   "metadata": {},
   "outputs": [
    {
     "data": {
      "text/plain": [
       "<AxesSubplot:>"
      ]
     },
     "execution_count": 26,
     "metadata": {},
     "output_type": "execute_result"
    },
    {
     "data": {
      "image/png": "[encoded data removed]",
      "text/plain": [
       "<Figure size 432x216 with 1 Axes>"
      ]
     },
     "metadata": {
      "needs_background": "light"
     },
     "output_type": "display_data"
    }
   ],
   "source": [
    "housing['median_income'].hist(bins=50, figsize=(6,3))"
   ]
  },
  {
   "cell_type": "markdown",
   "metadata": {},
   "source": [
    "## Geographic data"
   ]
  },
  {
   "cell_type": "code",
   "execution_count": 27,
   "metadata": {},
   "outputs": [
    {
     "data": {
      "text/plain": [
       "<AxesSubplot:xlabel='longitude', ylabel='latitude'>"
      ]
     },
     "execution_count": 27,
     "metadata": {},
     "output_type": "execute_result"
    },
    {
     "data": {
      "image/png": "[encoded data removed]",
      "text/plain": [
       "<Figure size 720x504 with 2 Axes>"
      ]
     },
     "metadata": {
      "needs_background": "light"
     },
     "output_type": "display_data"
    }
   ],
   "source": [
    "# The keyword c may be given as the name of a column to provide colors for each point\n",
    "# The keyword s is the bubble size\n",
    "# cmap is a colormap for representing data points with different colors and is used only with keyword c\n",
    "# jet is the name of a color bar\n",
    "\n",
    "housing.plot(kind='scatter', x='longitude', y='latitude', alpha=0.5,\n",
    "            s=housing['population']/100, label='population', figsize=(10,7),\n",
    "            c='median_house_value', cmap=plt.get_cmap(\"jet\"), colorbar=True)"
   ]
  },
  {
   "cell_type": "markdown",
   "metadata": {},
   "source": [
    "### **Correlation Matrices**"
   ]
  },
  {
   "cell_type": "code",
   "execution_count": 28,
   "metadata": {},
   "outputs": [
    {
     "data": {
      "text/html": [
       "<div>\n",
       "<style scoped>\n",
       "    .dataframe tbody tr th:only-of-type {\n",
       "        vertical-align: middle;\n",
       "    }\n",
       "\n",
       "    .dataframe tbody tr th {\n",
       "        vertical-align: top;\n",
       "    }\n",
       "\n",
       "    .dataframe thead th {\n",
       "        text-align: right;\n",
       "    }\n",
       "</style>\n",
       "<table border=\"1\" class=\"dataframe\">\n",
       "  <thead>\n",
       "    <tr style=\"text-align: right;\">\n",
       "      <th></th>\n",
       "      <th>longitude</th>\n",
       "      <th>latitude</th>\n",
       "      <th>housing_median_age</th>\n",
       "      <th>total_rooms</th>\n",
       "      <th>total_bedrooms</th>\n",
       "      <th>population</th>\n",
       "      <th>households</th>\n",
       "      <th>median_income</th>\n",
       "      <th>median_house_value</th>\n",
       "    </tr>\n",
       "  </thead>\n",
       "  <tbody>\n",
       "    <tr>\n",
       "      <th>longitude</th>\n",
       "      <td>1.000000</td>\n",
       "      <td>-0.924425</td>\n",
       "      <td>-0.111518</td>\n",
       "      <td>0.052286</td>\n",
       "      <td>0.080533</td>\n",
       "      <td>0.109645</td>\n",
       "      <td>0.066610</td>\n",
       "      <td>-0.023741</td>\n",
       "      <td>-0.052886</td>\n",
       "    </tr>\n",
       "    <tr>\n",
       "      <th>latitude</th>\n",
       "      <td>-0.924425</td>\n",
       "      <td>1.000000</td>\n",
       "      <td>0.009539</td>\n",
       "      <td>-0.043430</td>\n",
       "      <td>-0.077287</td>\n",
       "      <td>-0.117782</td>\n",
       "      <td>-0.082241</td>\n",
       "      <td>-0.072663</td>\n",
       "      <td>-0.138196</td>\n",
       "    </tr>\n",
       "    <tr>\n",
       "      <th>housing_median_age</th>\n",
       "      <td>-0.111518</td>\n",
       "      <td>0.009539</td>\n",
       "      <td>1.000000</td>\n",
       "      <td>-0.362466</td>\n",
       "      <td>-0.322497</td>\n",
       "      <td>-0.296318</td>\n",
       "      <td>-0.303120</td>\n",
       "      <td>-0.112059</td>\n",
       "      <td>0.117018</td>\n",
       "    </tr>\n",
       "    <tr>\n",
       "      <th>total_rooms</th>\n",
       "      <td>0.052286</td>\n",
       "      <td>-0.043430</td>\n",
       "      <td>-0.362466</td>\n",
       "      <td>1.000000</td>\n",
       "      <td>0.929572</td>\n",
       "      <td>0.852793</td>\n",
       "      <td>0.918067</td>\n",
       "      <td>0.200348</td>\n",
       "      <td>0.135076</td>\n",
       "    </tr>\n",
       "    <tr>\n",
       "      <th>total_bedrooms</th>\n",
       "      <td>0.080533</td>\n",
       "      <td>-0.077287</td>\n",
       "      <td>-0.322497</td>\n",
       "      <td>0.929572</td>\n",
       "      <td>1.000000</td>\n",
       "      <td>0.874190</td>\n",
       "      <td>0.979507</td>\n",
       "      <td>-0.009781</td>\n",
       "      <td>0.047784</td>\n",
       "    </tr>\n",
       "    <tr>\n",
       "      <th>population</th>\n",
       "      <td>0.109645</td>\n",
       "      <td>-0.117782</td>\n",
       "      <td>-0.296318</td>\n",
       "      <td>0.852793</td>\n",
       "      <td>0.874190</td>\n",
       "      <td>1.000000</td>\n",
       "      <td>0.903072</td>\n",
       "      <td>0.002803</td>\n",
       "      <td>-0.025524</td>\n",
       "    </tr>\n",
       "    <tr>\n",
       "      <th>households</th>\n",
       "      <td>0.066610</td>\n",
       "      <td>-0.082241</td>\n",
       "      <td>-0.303120</td>\n",
       "      <td>0.918067</td>\n",
       "      <td>0.979507</td>\n",
       "      <td>0.903072</td>\n",
       "      <td>1.000000</td>\n",
       "      <td>0.011902</td>\n",
       "      <td>0.064619</td>\n",
       "    </tr>\n",
       "    <tr>\n",
       "      <th>median_income</th>\n",
       "      <td>-0.023741</td>\n",
       "      <td>-0.072663</td>\n",
       "      <td>-0.112059</td>\n",
       "      <td>0.200348</td>\n",
       "      <td>-0.009781</td>\n",
       "      <td>0.002803</td>\n",
       "      <td>0.011902</td>\n",
       "      <td>1.000000</td>\n",
       "      <td>0.688935</td>\n",
       "    </tr>\n",
       "    <tr>\n",
       "      <th>median_house_value</th>\n",
       "      <td>-0.052886</td>\n",
       "      <td>-0.138196</td>\n",
       "      <td>0.117018</td>\n",
       "      <td>0.135076</td>\n",
       "      <td>0.047784</td>\n",
       "      <td>-0.025524</td>\n",
       "      <td>0.064619</td>\n",
       "      <td>0.688935</td>\n",
       "      <td>1.000000</td>\n",
       "    </tr>\n",
       "  </tbody>\n",
       "</table>\n",
       "</div>"
      ],
      "text/plain": [
       "                    longitude  latitude  housing_median_age  total_rooms  \\\n",
       "longitude            1.000000 -0.924425           -0.111518     0.052286   \n",
       "latitude            -0.924425  1.000000            0.009539    -0.043430   \n",
       "housing_median_age  -0.111518  0.009539            1.000000    -0.362466   \n",
       "total_rooms          0.052286 -0.043430           -0.362466     1.000000   \n",
       "total_bedrooms       0.080533 -0.077287           -0.322497     0.929572   \n",
       "population           0.109645 -0.117782           -0.296318     0.852793   \n",
       "households           0.066610 -0.082241           -0.303120     0.918067   \n",
       "median_income       -0.023741 -0.072663           -0.112059     0.200348   \n",
       "median_house_value  -0.052886 -0.138196            0.117018     0.135076   \n",
       "\n",
       "                    total_bedrooms  population  households  median_income  \\\n",
       "longitude                 0.080533    0.109645    0.066610      -0.023741   \n",
       "latitude                 -0.077287   -0.117782   -0.082241      -0.072663   \n",
       "housing_median_age       -0.322497   -0.296318   -0.303120      -0.112059   \n",
       "total_rooms               0.929572    0.852793    0.918067       0.200348   \n",
       "total_bedrooms            1.000000    0.874190    0.979507      -0.009781   \n",
       "population                0.874190    1.000000    0.903072       0.002803   \n",
       "households                0.979507    0.903072    1.000000       0.011902   \n",
       "median_income            -0.009781    0.002803    0.011902       1.000000   \n",
       "median_house_value        0.047784   -0.025524    0.064619       0.688935   \n",
       "\n",
       "                    median_house_value  \n",
       "longitude                    -0.052886  \n",
       "latitude                     -0.138196  \n",
       "housing_median_age            0.117018  \n",
       "total_rooms                   0.135076  \n",
       "total_bedrooms                0.047784  \n",
       "population                   -0.025524  \n",
       "households                    0.064619  \n",
       "median_income                 0.688935  \n",
       "median_house_value            1.000000  "
      ]
     },
     "execution_count": 28,
     "metadata": {},
     "output_type": "execute_result"
    }
   ],
   "source": [
    "housing.corr()"
   ]
  },
  {
   "cell_type": "code",
   "execution_count": 29,
   "metadata": {},
   "outputs": [
    {
     "data": {
      "text/plain": [
       "<AxesSubplot:>"
      ]
     },
     "execution_count": 29,
     "metadata": {},
     "output_type": "execute_result"
    },
    {
     "data": {
      "image/png": "[encoded data removed]",
      "text/plain": [
       "<Figure size 792x648 with 2 Axes>"
      ]
     },
     "metadata": {
      "needs_background": "light"
     },
     "output_type": "display_data"
    }
   ],
   "source": [
    "# Visualize the above matrix\n",
    "# np.triu(x) gives upper traingular matrix same shape and datatype as of x\n",
    "# np.ones_like(x) returns an array of ones with same shape and datatype as of x\n",
    "# plt.suplots() will return a figure(f) and a single axis(ax)\n",
    "# sns.diverging_palette(s,l,as_cmap) --> s - anchor saturation, l - anchor lightness for both extents of the map\n",
    "# If as_cmap = True - returns a color map \n",
    "# cbar_kws is for color bar\n",
    "# mask = mask data will not be shown in cells where mask is True. Cells with missing values are automatically masked\n",
    "\n",
    "corr = housing.corr()\n",
    "mask = np.triu(np.ones_like(corr,dtype=bool))\n",
    "f, ax = plt.subplots(figsize=(11,9))\n",
    "cmap = sns.diverging_palette(230,20, as_cmap=True)\n",
    "sns.heatmap(corr, mask=mask, cmap=cmap, vmax=.3, center=0, square=True, linewidths=0.5, cbar_kws={\"shrink\": 0.5})"
   ]
  },
  {
   "cell_type": "markdown",
   "metadata": {},
   "source": [
    "### **Preparing data**"
   ]
  },
  {
   "cell_type": "code",
   "execution_count": 30,
   "metadata": {},
   "outputs": [],
   "source": [
    "housing = strat_train_set.drop(\"median_house_value\", axis=1)\n",
    "housing_labels = strat_train_set[\"median_house_value\"].copy()"
   ]
  },
  {
   "cell_type": "markdown",
   "metadata": {},
   "source": [
    "## Dealing with missing values"
   ]
  },
  {
   "cell_type": "code",
   "execution_count": 31,
   "metadata": {},
   "outputs": [
    {
     "data": {
      "image/png": "[encoded data removed]",
      "text/plain": [
       "<IPython.core.display.Image object>"
      ]
     },
     "execution_count": 31,
     "metadata": {
      "image/png": {
       "height": 300,
       "width": 500
      }
     },
     "output_type": "execute_result"
    }
   ],
   "source": [
    "from IPython.display import Image\n",
    "Image(filename='Axis.png',width=500, height=300) "
   ]
  },
  {
   "cell_type": "code",
   "execution_count": 32,
   "metadata": {},
   "outputs": [
    {
     "data": {
      "text/html": [
       "<div>\n",
       "<style scoped>\n",
       "    .dataframe tbody tr th:only-of-type {\n",
       "        vertical-align: middle;\n",
       "    }\n",
       "\n",
       "    .dataframe tbody tr th {\n",
       "        vertical-align: top;\n",
       "    }\n",
       "\n",
       "    .dataframe thead th {\n",
       "        text-align: right;\n",
       "    }\n",
       "</style>\n",
       "<table border=\"1\" class=\"dataframe\">\n",
       "  <thead>\n",
       "    <tr style=\"text-align: right;\">\n",
       "      <th></th>\n",
       "      <th>longitude</th>\n",
       "      <th>latitude</th>\n",
       "      <th>housing_median_age</th>\n",
       "      <th>total_rooms</th>\n",
       "      <th>total_bedrooms</th>\n",
       "      <th>population</th>\n",
       "      <th>households</th>\n",
       "      <th>median_income</th>\n",
       "      <th>ocean_proximity</th>\n",
       "    </tr>\n",
       "  </thead>\n",
       "  <tbody>\n",
       "    <tr>\n",
       "      <th>2578</th>\n",
       "      <td>-124.06</td>\n",
       "      <td>40.86</td>\n",
       "      <td>34.0</td>\n",
       "      <td>4183.0</td>\n",
       "      <td>NaN</td>\n",
       "      <td>1891.0</td>\n",
       "      <td>669.0</td>\n",
       "      <td>3.2216</td>\n",
       "      <td>NEAR OCEAN</td>\n",
       "    </tr>\n",
       "    <tr>\n",
       "      <th>11741</th>\n",
       "      <td>-121.13</td>\n",
       "      <td>38.87</td>\n",
       "      <td>48.0</td>\n",
       "      <td>1127.0</td>\n",
       "      <td>NaN</td>\n",
       "      <td>530.0</td>\n",
       "      <td>186.0</td>\n",
       "      <td>3.0917</td>\n",
       "      <td>INLAND</td>\n",
       "    </tr>\n",
       "    <tr>\n",
       "      <th>290</th>\n",
       "      <td>-122.16</td>\n",
       "      <td>37.77</td>\n",
       "      <td>47.0</td>\n",
       "      <td>1256.0</td>\n",
       "      <td>NaN</td>\n",
       "      <td>570.0</td>\n",
       "      <td>218.0</td>\n",
       "      <td>4.3750</td>\n",
       "      <td>NEAR BAY</td>\n",
       "    </tr>\n",
       "    <tr>\n",
       "      <th>5222</th>\n",
       "      <td>-118.25</td>\n",
       "      <td>33.95</td>\n",
       "      <td>28.0</td>\n",
       "      <td>2136.0</td>\n",
       "      <td>NaN</td>\n",
       "      <td>1799.0</td>\n",
       "      <td>476.0</td>\n",
       "      <td>1.5427</td>\n",
       "      <td>&lt;1H OCEAN</td>\n",
       "    </tr>\n",
       "    <tr>\n",
       "      <th>4591</th>\n",
       "      <td>-118.28</td>\n",
       "      <td>34.06</td>\n",
       "      <td>42.0</td>\n",
       "      <td>2472.0</td>\n",
       "      <td>NaN</td>\n",
       "      <td>3795.0</td>\n",
       "      <td>1179.0</td>\n",
       "      <td>1.2254</td>\n",
       "      <td>&lt;1H OCEAN</td>\n",
       "    </tr>\n",
       "    <tr>\n",
       "      <th>...</th>\n",
       "      <td>...</td>\n",
       "      <td>...</td>\n",
       "      <td>...</td>\n",
       "      <td>...</td>\n",
       "      <td>...</td>\n",
       "      <td>...</td>\n",
       "      <td>...</td>\n",
       "      <td>...</td>\n",
       "      <td>...</td>\n",
       "    </tr>\n",
       "    <tr>\n",
       "      <th>3376</th>\n",
       "      <td>-118.28</td>\n",
       "      <td>34.25</td>\n",
       "      <td>29.0</td>\n",
       "      <td>2559.0</td>\n",
       "      <td>NaN</td>\n",
       "      <td>1886.0</td>\n",
       "      <td>769.0</td>\n",
       "      <td>2.6036</td>\n",
       "      <td>&lt;1H OCEAN</td>\n",
       "    </tr>\n",
       "    <tr>\n",
       "      <th>16880</th>\n",
       "      <td>-122.39</td>\n",
       "      <td>37.59</td>\n",
       "      <td>32.0</td>\n",
       "      <td>4497.0</td>\n",
       "      <td>NaN</td>\n",
       "      <td>1846.0</td>\n",
       "      <td>715.0</td>\n",
       "      <td>6.1323</td>\n",
       "      <td>NEAR OCEAN</td>\n",
       "    </tr>\n",
       "    <tr>\n",
       "      <th>15137</th>\n",
       "      <td>-116.91</td>\n",
       "      <td>32.83</td>\n",
       "      <td>16.0</td>\n",
       "      <td>5203.0</td>\n",
       "      <td>NaN</td>\n",
       "      <td>2515.0</td>\n",
       "      <td>862.0</td>\n",
       "      <td>4.1050</td>\n",
       "      <td>&lt;1H OCEAN</td>\n",
       "    </tr>\n",
       "    <tr>\n",
       "      <th>6220</th>\n",
       "      <td>-117.91</td>\n",
       "      <td>34.05</td>\n",
       "      <td>35.0</td>\n",
       "      <td>3189.0</td>\n",
       "      <td>NaN</td>\n",
       "      <td>1727.0</td>\n",
       "      <td>500.0</td>\n",
       "      <td>5.0758</td>\n",
       "      <td>&lt;1H OCEAN</td>\n",
       "    </tr>\n",
       "    <tr>\n",
       "      <th>18332</th>\n",
       "      <td>-122.16</td>\n",
       "      <td>37.45</td>\n",
       "      <td>47.0</td>\n",
       "      <td>4234.0</td>\n",
       "      <td>NaN</td>\n",
       "      <td>1808.0</td>\n",
       "      <td>1093.0</td>\n",
       "      <td>4.2297</td>\n",
       "      <td>NEAR BAY</td>\n",
       "    </tr>\n",
       "  </tbody>\n",
       "</table>\n",
       "<p>132 rows × 9 columns</p>\n",
       "</div>"
      ],
      "text/plain": [
       "       longitude  latitude  housing_median_age  total_rooms  total_bedrooms  \\\n",
       "2578     -124.06     40.86                34.0       4183.0             NaN   \n",
       "11741    -121.13     38.87                48.0       1127.0             NaN   \n",
       "290      -122.16     37.77                47.0       1256.0             NaN   \n",
       "5222     -118.25     33.95                28.0       2136.0             NaN   \n",
       "4591     -118.28     34.06                42.0       2472.0             NaN   \n",
       "...          ...       ...                 ...          ...             ...   \n",
       "3376     -118.28     34.25                29.0       2559.0             NaN   \n",
       "16880    -122.39     37.59                32.0       4497.0             NaN   \n",
       "15137    -116.91     32.83                16.0       5203.0             NaN   \n",
       "6220     -117.91     34.05                35.0       3189.0             NaN   \n",
       "18332    -122.16     37.45                47.0       4234.0             NaN   \n",
       "\n",
       "       population  households  median_income ocean_proximity  \n",
       "2578       1891.0       669.0         3.2216      NEAR OCEAN  \n",
       "11741       530.0       186.0         3.0917          INLAND  \n",
       "290         570.0       218.0         4.3750        NEAR BAY  \n",
       "5222       1799.0       476.0         1.5427       <1H OCEAN  \n",
       "4591       3795.0      1179.0         1.2254       <1H OCEAN  \n",
       "...           ...         ...            ...             ...  \n",
       "3376       1886.0       769.0         2.6036       <1H OCEAN  \n",
       "16880      1846.0       715.0         6.1323      NEAR OCEAN  \n",
       "15137      2515.0       862.0         4.1050       <1H OCEAN  \n",
       "6220       1727.0       500.0         5.0758       <1H OCEAN  \n",
       "18332      1808.0      1093.0         4.2297        NEAR BAY  \n",
       "\n",
       "[132 rows x 9 columns]"
      ]
     },
     "execution_count": 32,
     "metadata": {},
     "output_type": "execute_result"
    }
   ],
   "source": [
    "sample_incomplete_rows = housing[housing.isnull().any(axis=1)]  \n",
    "# The code/condition within df[-\"-] will show rows that have NaN values, while the df with the condition will give \n",
    "# the section of df with NaN values as a new df \n",
    "sample_incomplete_rows"
   ]
  },
  {
   "cell_type": "code",
   "execution_count": 33,
   "metadata": {},
   "outputs": [
    {
     "data": {
      "text/html": [
       "<div>\n",
       "<style scoped>\n",
       "    .dataframe tbody tr th:only-of-type {\n",
       "        vertical-align: middle;\n",
       "    }\n",
       "\n",
       "    .dataframe tbody tr th {\n",
       "        vertical-align: top;\n",
       "    }\n",
       "\n",
       "    .dataframe thead th {\n",
       "        text-align: right;\n",
       "    }\n",
       "</style>\n",
       "<table border=\"1\" class=\"dataframe\">\n",
       "  <thead>\n",
       "    <tr style=\"text-align: right;\">\n",
       "      <th></th>\n",
       "      <th>longitude</th>\n",
       "      <th>latitude</th>\n",
       "      <th>housing_median_age</th>\n",
       "      <th>total_rooms</th>\n",
       "      <th>total_bedrooms</th>\n",
       "      <th>population</th>\n",
       "      <th>households</th>\n",
       "      <th>median_income</th>\n",
       "      <th>ocean_proximity</th>\n",
       "    </tr>\n",
       "  </thead>\n",
       "  <tbody>\n",
       "  </tbody>\n",
       "</table>\n",
       "</div>"
      ],
      "text/plain": [
       "Empty DataFrame\n",
       "Columns: [longitude, latitude, housing_median_age, total_rooms, total_bedrooms, population, households, median_income, ocean_proximity]\n",
       "Index: []"
      ]
     },
     "execution_count": 33,
     "metadata": {},
     "output_type": "execute_result"
    }
   ],
   "source": [
    "# Get ride of rows with missing values\n",
    "sample_incomplete_rows.dropna(subset=['total_bedrooms'])\n",
    "# gets rid of the rows where total_bedrooms is NaN"
   ]
  },
  {
   "cell_type": "code",
   "execution_count": 34,
   "metadata": {},
   "outputs": [
    {
     "data": {
      "text/html": [
       "<div>\n",
       "<style scoped>\n",
       "    .dataframe tbody tr th:only-of-type {\n",
       "        vertical-align: middle;\n",
       "    }\n",
       "\n",
       "    .dataframe tbody tr th {\n",
       "        vertical-align: top;\n",
       "    }\n",
       "\n",
       "    .dataframe thead th {\n",
       "        text-align: right;\n",
       "    }\n",
       "</style>\n",
       "<table border=\"1\" class=\"dataframe\">\n",
       "  <thead>\n",
       "    <tr style=\"text-align: right;\">\n",
       "      <th></th>\n",
       "      <th>longitude</th>\n",
       "      <th>latitude</th>\n",
       "      <th>housing_median_age</th>\n",
       "      <th>total_rooms</th>\n",
       "      <th>population</th>\n",
       "      <th>households</th>\n",
       "      <th>median_income</th>\n",
       "      <th>ocean_proximity</th>\n",
       "    </tr>\n",
       "  </thead>\n",
       "  <tbody>\n",
       "    <tr>\n",
       "      <th>2578</th>\n",
       "      <td>-124.06</td>\n",
       "      <td>40.86</td>\n",
       "      <td>34.0</td>\n",
       "      <td>4183.0</td>\n",
       "      <td>1891.0</td>\n",
       "      <td>669.0</td>\n",
       "      <td>3.2216</td>\n",
       "      <td>NEAR OCEAN</td>\n",
       "    </tr>\n",
       "    <tr>\n",
       "      <th>11741</th>\n",
       "      <td>-121.13</td>\n",
       "      <td>38.87</td>\n",
       "      <td>48.0</td>\n",
       "      <td>1127.0</td>\n",
       "      <td>530.0</td>\n",
       "      <td>186.0</td>\n",
       "      <td>3.0917</td>\n",
       "      <td>INLAND</td>\n",
       "    </tr>\n",
       "    <tr>\n",
       "      <th>290</th>\n",
       "      <td>-122.16</td>\n",
       "      <td>37.77</td>\n",
       "      <td>47.0</td>\n",
       "      <td>1256.0</td>\n",
       "      <td>570.0</td>\n",
       "      <td>218.0</td>\n",
       "      <td>4.3750</td>\n",
       "      <td>NEAR BAY</td>\n",
       "    </tr>\n",
       "    <tr>\n",
       "      <th>5222</th>\n",
       "      <td>-118.25</td>\n",
       "      <td>33.95</td>\n",
       "      <td>28.0</td>\n",
       "      <td>2136.0</td>\n",
       "      <td>1799.0</td>\n",
       "      <td>476.0</td>\n",
       "      <td>1.5427</td>\n",
       "      <td>&lt;1H OCEAN</td>\n",
       "    </tr>\n",
       "    <tr>\n",
       "      <th>4591</th>\n",
       "      <td>-118.28</td>\n",
       "      <td>34.06</td>\n",
       "      <td>42.0</td>\n",
       "      <td>2472.0</td>\n",
       "      <td>3795.0</td>\n",
       "      <td>1179.0</td>\n",
       "      <td>1.2254</td>\n",
       "      <td>&lt;1H OCEAN</td>\n",
       "    </tr>\n",
       "    <tr>\n",
       "      <th>...</th>\n",
       "      <td>...</td>\n",
       "      <td>...</td>\n",
       "      <td>...</td>\n",
       "      <td>...</td>\n",
       "      <td>...</td>\n",
       "      <td>...</td>\n",
       "      <td>...</td>\n",
       "      <td>...</td>\n",
       "    </tr>\n",
       "    <tr>\n",
       "      <th>3376</th>\n",
       "      <td>-118.28</td>\n",
       "      <td>34.25</td>\n",
       "      <td>29.0</td>\n",
       "      <td>2559.0</td>\n",
       "      <td>1886.0</td>\n",
       "      <td>769.0</td>\n",
       "      <td>2.6036</td>\n",
       "      <td>&lt;1H OCEAN</td>\n",
       "    </tr>\n",
       "    <tr>\n",
       "      <th>16880</th>\n",
       "      <td>-122.39</td>\n",
       "      <td>37.59</td>\n",
       "      <td>32.0</td>\n",
       "      <td>4497.0</td>\n",
       "      <td>1846.0</td>\n",
       "      <td>715.0</td>\n",
       "      <td>6.1323</td>\n",
       "      <td>NEAR OCEAN</td>\n",
       "    </tr>\n",
       "    <tr>\n",
       "      <th>15137</th>\n",
       "      <td>-116.91</td>\n",
       "      <td>32.83</td>\n",
       "      <td>16.0</td>\n",
       "      <td>5203.0</td>\n",
       "      <td>2515.0</td>\n",
       "      <td>862.0</td>\n",
       "      <td>4.1050</td>\n",
       "      <td>&lt;1H OCEAN</td>\n",
       "    </tr>\n",
       "    <tr>\n",
       "      <th>6220</th>\n",
       "      <td>-117.91</td>\n",
       "      <td>34.05</td>\n",
       "      <td>35.0</td>\n",
       "      <td>3189.0</td>\n",
       "      <td>1727.0</td>\n",
       "      <td>500.0</td>\n",
       "      <td>5.0758</td>\n",
       "      <td>&lt;1H OCEAN</td>\n",
       "    </tr>\n",
       "    <tr>\n",
       "      <th>18332</th>\n",
       "      <td>-122.16</td>\n",
       "      <td>37.45</td>\n",
       "      <td>47.0</td>\n",
       "      <td>4234.0</td>\n",
       "      <td>1808.0</td>\n",
       "      <td>1093.0</td>\n",
       "      <td>4.2297</td>\n",
       "      <td>NEAR BAY</td>\n",
       "    </tr>\n",
       "  </tbody>\n",
       "</table>\n",
       "<p>132 rows × 8 columns</p>\n",
       "</div>"
      ],
      "text/plain": [
       "       longitude  latitude  housing_median_age  total_rooms  population  \\\n",
       "2578     -124.06     40.86                34.0       4183.0      1891.0   \n",
       "11741    -121.13     38.87                48.0       1127.0       530.0   \n",
       "290      -122.16     37.77                47.0       1256.0       570.0   \n",
       "5222     -118.25     33.95                28.0       2136.0      1799.0   \n",
       "4591     -118.28     34.06                42.0       2472.0      3795.0   \n",
       "...          ...       ...                 ...          ...         ...   \n",
       "3376     -118.28     34.25                29.0       2559.0      1886.0   \n",
       "16880    -122.39     37.59                32.0       4497.0      1846.0   \n",
       "15137    -116.91     32.83                16.0       5203.0      2515.0   \n",
       "6220     -117.91     34.05                35.0       3189.0      1727.0   \n",
       "18332    -122.16     37.45                47.0       4234.0      1808.0   \n",
       "\n",
       "       households  median_income ocean_proximity  \n",
       "2578        669.0         3.2216      NEAR OCEAN  \n",
       "11741       186.0         3.0917          INLAND  \n",
       "290         218.0         4.3750        NEAR BAY  \n",
       "5222        476.0         1.5427       <1H OCEAN  \n",
       "4591       1179.0         1.2254       <1H OCEAN  \n",
       "...           ...            ...             ...  \n",
       "3376        769.0         2.6036       <1H OCEAN  \n",
       "16880       715.0         6.1323      NEAR OCEAN  \n",
       "15137       862.0         4.1050       <1H OCEAN  \n",
       "6220        500.0         5.0758       <1H OCEAN  \n",
       "18332      1093.0         4.2297        NEAR BAY  \n",
       "\n",
       "[132 rows x 8 columns]"
      ]
     },
     "execution_count": 34,
     "metadata": {},
     "output_type": "execute_result"
    }
   ],
   "source": [
    "# Get rid of the total bedrooms column\n",
    "sample_incomplete_rows.drop(\"total_bedrooms\",axis=1)"
   ]
  },
  {
   "cell_type": "code",
   "execution_count": 38,
   "metadata": {},
   "outputs": [
    {
     "data": {
      "text/html": [
       "<div>\n",
       "<style scoped>\n",
       "    .dataframe tbody tr th:only-of-type {\n",
       "        vertical-align: middle;\n",
       "    }\n",
       "\n",
       "    .dataframe tbody tr th {\n",
       "        vertical-align: top;\n",
       "    }\n",
       "\n",
       "    .dataframe thead th {\n",
       "        text-align: right;\n",
       "    }\n",
       "</style>\n",
       "<table border=\"1\" class=\"dataframe\">\n",
       "  <thead>\n",
       "    <tr style=\"text-align: right;\">\n",
       "      <th></th>\n",
       "      <th>longitude</th>\n",
       "      <th>latitude</th>\n",
       "      <th>housing_median_age</th>\n",
       "      <th>total_rooms</th>\n",
       "      <th>total_bedrooms</th>\n",
       "      <th>population</th>\n",
       "      <th>households</th>\n",
       "      <th>median_income</th>\n",
       "      <th>ocean_proximity</th>\n",
       "    </tr>\n",
       "  </thead>\n",
       "  <tbody>\n",
       "    <tr>\n",
       "      <th>2578</th>\n",
       "      <td>-124.06</td>\n",
       "      <td>40.86</td>\n",
       "      <td>34.0</td>\n",
       "      <td>4183.0</td>\n",
       "      <td>429.5</td>\n",
       "      <td>1891.0</td>\n",
       "      <td>669.0</td>\n",
       "      <td>3.2216</td>\n",
       "      <td>NEAR OCEAN</td>\n",
       "    </tr>\n",
       "    <tr>\n",
       "      <th>11741</th>\n",
       "      <td>-121.13</td>\n",
       "      <td>38.87</td>\n",
       "      <td>48.0</td>\n",
       "      <td>1127.0</td>\n",
       "      <td>429.5</td>\n",
       "      <td>530.0</td>\n",
       "      <td>186.0</td>\n",
       "      <td>3.0917</td>\n",
       "      <td>INLAND</td>\n",
       "    </tr>\n",
       "    <tr>\n",
       "      <th>290</th>\n",
       "      <td>-122.16</td>\n",
       "      <td>37.77</td>\n",
       "      <td>47.0</td>\n",
       "      <td>1256.0</td>\n",
       "      <td>429.5</td>\n",
       "      <td>570.0</td>\n",
       "      <td>218.0</td>\n",
       "      <td>4.3750</td>\n",
       "      <td>NEAR BAY</td>\n",
       "    </tr>\n",
       "    <tr>\n",
       "      <th>5222</th>\n",
       "      <td>-118.25</td>\n",
       "      <td>33.95</td>\n",
       "      <td>28.0</td>\n",
       "      <td>2136.0</td>\n",
       "      <td>429.5</td>\n",
       "      <td>1799.0</td>\n",
       "      <td>476.0</td>\n",
       "      <td>1.5427</td>\n",
       "      <td>&lt;1H OCEAN</td>\n",
       "    </tr>\n",
       "    <tr>\n",
       "      <th>4591</th>\n",
       "      <td>-118.28</td>\n",
       "      <td>34.06</td>\n",
       "      <td>42.0</td>\n",
       "      <td>2472.0</td>\n",
       "      <td>429.5</td>\n",
       "      <td>3795.0</td>\n",
       "      <td>1179.0</td>\n",
       "      <td>1.2254</td>\n",
       "      <td>&lt;1H OCEAN</td>\n",
       "    </tr>\n",
       "    <tr>\n",
       "      <th>...</th>\n",
       "      <td>...</td>\n",
       "      <td>...</td>\n",
       "      <td>...</td>\n",
       "      <td>...</td>\n",
       "      <td>...</td>\n",
       "      <td>...</td>\n",
       "      <td>...</td>\n",
       "      <td>...</td>\n",
       "      <td>...</td>\n",
       "    </tr>\n",
       "    <tr>\n",
       "      <th>3376</th>\n",
       "      <td>-118.28</td>\n",
       "      <td>34.25</td>\n",
       "      <td>29.0</td>\n",
       "      <td>2559.0</td>\n",
       "      <td>429.5</td>\n",
       "      <td>1886.0</td>\n",
       "      <td>769.0</td>\n",
       "      <td>2.6036</td>\n",
       "      <td>&lt;1H OCEAN</td>\n",
       "    </tr>\n",
       "    <tr>\n",
       "      <th>16880</th>\n",
       "      <td>-122.39</td>\n",
       "      <td>37.59</td>\n",
       "      <td>32.0</td>\n",
       "      <td>4497.0</td>\n",
       "      <td>429.5</td>\n",
       "      <td>1846.0</td>\n",
       "      <td>715.0</td>\n",
       "      <td>6.1323</td>\n",
       "      <td>NEAR OCEAN</td>\n",
       "    </tr>\n",
       "    <tr>\n",
       "      <th>15137</th>\n",
       "      <td>-116.91</td>\n",
       "      <td>32.83</td>\n",
       "      <td>16.0</td>\n",
       "      <td>5203.0</td>\n",
       "      <td>429.5</td>\n",
       "      <td>2515.0</td>\n",
       "      <td>862.0</td>\n",
       "      <td>4.1050</td>\n",
       "      <td>&lt;1H OCEAN</td>\n",
       "    </tr>\n",
       "    <tr>\n",
       "      <th>6220</th>\n",
       "      <td>-117.91</td>\n",
       "      <td>34.05</td>\n",
       "      <td>35.0</td>\n",
       "      <td>3189.0</td>\n",
       "      <td>429.5</td>\n",
       "      <td>1727.0</td>\n",
       "      <td>500.0</td>\n",
       "      <td>5.0758</td>\n",
       "      <td>&lt;1H OCEAN</td>\n",
       "    </tr>\n",
       "    <tr>\n",
       "      <th>18332</th>\n",
       "      <td>-122.16</td>\n",
       "      <td>37.45</td>\n",
       "      <td>47.0</td>\n",
       "      <td>4234.0</td>\n",
       "      <td>429.5</td>\n",
       "      <td>1808.0</td>\n",
       "      <td>1093.0</td>\n",
       "      <td>4.2297</td>\n",
       "      <td>NEAR BAY</td>\n",
       "    </tr>\n",
       "  </tbody>\n",
       "</table>\n",
       "<p>132 rows × 9 columns</p>\n",
       "</div>"
      ],
      "text/plain": [
       "       longitude  latitude  housing_median_age  total_rooms  total_bedrooms  \\\n",
       "2578     -124.06     40.86                34.0       4183.0           429.5   \n",
       "11741    -121.13     38.87                48.0       1127.0           429.5   \n",
       "290      -122.16     37.77                47.0       1256.0           429.5   \n",
       "5222     -118.25     33.95                28.0       2136.0           429.5   \n",
       "4591     -118.28     34.06                42.0       2472.0           429.5   \n",
       "...          ...       ...                 ...          ...             ...   \n",
       "3376     -118.28     34.25                29.0       2559.0           429.5   \n",
       "16880    -122.39     37.59                32.0       4497.0           429.5   \n",
       "15137    -116.91     32.83                16.0       5203.0           429.5   \n",
       "6220     -117.91     34.05                35.0       3189.0           429.5   \n",
       "18332    -122.16     37.45                47.0       4234.0           429.5   \n",
       "\n",
       "       population  households  median_income ocean_proximity  \n",
       "2578       1891.0       669.0         3.2216      NEAR OCEAN  \n",
       "11741       530.0       186.0         3.0917          INLAND  \n",
       "290         570.0       218.0         4.3750        NEAR BAY  \n",
       "5222       1799.0       476.0         1.5427       <1H OCEAN  \n",
       "4591       3795.0      1179.0         1.2254       <1H OCEAN  \n",
       "...           ...         ...            ...             ...  \n",
       "3376       1886.0       769.0         2.6036       <1H OCEAN  \n",
       "16880      1846.0       715.0         6.1323      NEAR OCEAN  \n",
       "15137      2515.0       862.0         4.1050       <1H OCEAN  \n",
       "6220       1727.0       500.0         5.0758       <1H OCEAN  \n",
       "18332      1808.0      1093.0         4.2297        NEAR BAY  \n",
       "\n",
       "[132 rows x 9 columns]"
      ]
     },
     "execution_count": 38,
     "metadata": {},
     "output_type": "execute_result"
    }
   ],
   "source": [
    "# Impute the missing values with the median value\n",
    "median = housing['total_bedrooms'].median()\n",
    "sample_incomplete_rows = sample_incomplete_rows.copy()\n",
    "sample_incomplete_rows['total_bedrooms'].fillna(median,inplace = True)\n",
    "sample_incomplete_rows"
   ]
  },
  {
   "cell_type": "code",
   "execution_count": 33,
   "metadata": {},
   "outputs": [],
   "source": [
    "# Impute median values where ever there is NaN values in the data set\n",
    "from sklearn.impute import SimpleImputer\n",
    "imputer = SimpleImputer(strategy='median')"
   ]
  },
  {
   "cell_type": "code",
   "execution_count": 34,
   "metadata": {},
   "outputs": [
    {
     "data": {
      "text/html": [
       "<div>\n",
       "<style scoped>\n",
       "    .dataframe tbody tr th:only-of-type {\n",
       "        vertical-align: middle;\n",
       "    }\n",
       "\n",
       "    .dataframe tbody tr th {\n",
       "        vertical-align: top;\n",
       "    }\n",
       "\n",
       "    .dataframe thead th {\n",
       "        text-align: right;\n",
       "    }\n",
       "</style>\n",
       "<table border=\"1\" class=\"dataframe\">\n",
       "  <thead>\n",
       "    <tr style=\"text-align: right;\">\n",
       "      <th></th>\n",
       "      <th>longitude</th>\n",
       "      <th>latitude</th>\n",
       "      <th>housing_median_age</th>\n",
       "      <th>total_rooms</th>\n",
       "      <th>total_bedrooms</th>\n",
       "      <th>population</th>\n",
       "      <th>households</th>\n",
       "      <th>median_income</th>\n",
       "    </tr>\n",
       "  </thead>\n",
       "  <tbody>\n",
       "    <tr>\n",
       "      <th>13325</th>\n",
       "      <td>-117.63</td>\n",
       "      <td>34.06</td>\n",
       "      <td>39.0</td>\n",
       "      <td>1210.0</td>\n",
       "      <td>310.0</td>\n",
       "      <td>1294.0</td>\n",
       "      <td>303.0</td>\n",
       "      <td>2.3636</td>\n",
       "    </tr>\n",
       "    <tr>\n",
       "      <th>20355</th>\n",
       "      <td>-118.96</td>\n",
       "      <td>34.19</td>\n",
       "      <td>16.0</td>\n",
       "      <td>1807.0</td>\n",
       "      <td>346.0</td>\n",
       "      <td>587.0</td>\n",
       "      <td>296.0</td>\n",
       "      <td>1.9811</td>\n",
       "    </tr>\n",
       "    <tr>\n",
       "      <th>7481</th>\n",
       "      <td>-118.23</td>\n",
       "      <td>33.93</td>\n",
       "      <td>23.0</td>\n",
       "      <td>545.0</td>\n",
       "      <td>131.0</td>\n",
       "      <td>610.0</td>\n",
       "      <td>126.0</td>\n",
       "      <td>1.4861</td>\n",
       "    </tr>\n",
       "    <tr>\n",
       "      <th>15465</th>\n",
       "      <td>-117.22</td>\n",
       "      <td>33.18</td>\n",
       "      <td>13.0</td>\n",
       "      <td>4273.0</td>\n",
       "      <td>886.0</td>\n",
       "      <td>2328.0</td>\n",
       "      <td>801.0</td>\n",
       "      <td>3.3444</td>\n",
       "    </tr>\n",
       "    <tr>\n",
       "      <th>18116</th>\n",
       "      <td>-122.02</td>\n",
       "      <td>37.30</td>\n",
       "      <td>32.0</td>\n",
       "      <td>2134.0</td>\n",
       "      <td>328.0</td>\n",
       "      <td>903.0</td>\n",
       "      <td>322.0</td>\n",
       "      <td>6.3590</td>\n",
       "    </tr>\n",
       "    <tr>\n",
       "      <th>...</th>\n",
       "      <td>...</td>\n",
       "      <td>...</td>\n",
       "      <td>...</td>\n",
       "      <td>...</td>\n",
       "      <td>...</td>\n",
       "      <td>...</td>\n",
       "      <td>...</td>\n",
       "      <td>...</td>\n",
       "    </tr>\n",
       "    <tr>\n",
       "      <th>994</th>\n",
       "      <td>-121.73</td>\n",
       "      <td>37.71</td>\n",
       "      <td>12.0</td>\n",
       "      <td>5608.0</td>\n",
       "      <td>1049.0</td>\n",
       "      <td>2595.0</td>\n",
       "      <td>1067.0</td>\n",
       "      <td>3.9864</td>\n",
       "    </tr>\n",
       "    <tr>\n",
       "      <th>5377</th>\n",
       "      <td>-118.39</td>\n",
       "      <td>34.04</td>\n",
       "      <td>49.0</td>\n",
       "      <td>1230.0</td>\n",
       "      <td>279.0</td>\n",
       "      <td>669.0</td>\n",
       "      <td>269.0</td>\n",
       "      <td>3.9038</td>\n",
       "    </tr>\n",
       "    <tr>\n",
       "      <th>5448</th>\n",
       "      <td>-118.42</td>\n",
       "      <td>34.01</td>\n",
       "      <td>29.0</td>\n",
       "      <td>1996.0</td>\n",
       "      <td>489.0</td>\n",
       "      <td>960.0</td>\n",
       "      <td>449.0</td>\n",
       "      <td>3.6611</td>\n",
       "    </tr>\n",
       "    <tr>\n",
       "      <th>9813</th>\n",
       "      <td>-121.92</td>\n",
       "      <td>36.61</td>\n",
       "      <td>29.0</td>\n",
       "      <td>3735.0</td>\n",
       "      <td>808.0</td>\n",
       "      <td>1873.0</td>\n",
       "      <td>757.0</td>\n",
       "      <td>3.1543</td>\n",
       "    </tr>\n",
       "    <tr>\n",
       "      <th>11752</th>\n",
       "      <td>-121.21</td>\n",
       "      <td>38.76</td>\n",
       "      <td>16.0</td>\n",
       "      <td>1608.0</td>\n",
       "      <td>296.0</td>\n",
       "      <td>792.0</td>\n",
       "      <td>286.0</td>\n",
       "      <td>3.1583</td>\n",
       "    </tr>\n",
       "  </tbody>\n",
       "</table>\n",
       "<p>13828 rows × 8 columns</p>\n",
       "</div>"
      ],
      "text/plain": [
       "       longitude  latitude  housing_median_age  total_rooms  total_bedrooms  \\\n",
       "13325    -117.63     34.06                39.0       1210.0           310.0   \n",
       "20355    -118.96     34.19                16.0       1807.0           346.0   \n",
       "7481     -118.23     33.93                23.0        545.0           131.0   \n",
       "15465    -117.22     33.18                13.0       4273.0           886.0   \n",
       "18116    -122.02     37.30                32.0       2134.0           328.0   \n",
       "...          ...       ...                 ...          ...             ...   \n",
       "994      -121.73     37.71                12.0       5608.0          1049.0   \n",
       "5377     -118.39     34.04                49.0       1230.0           279.0   \n",
       "5448     -118.42     34.01                29.0       1996.0           489.0   \n",
       "9813     -121.92     36.61                29.0       3735.0           808.0   \n",
       "11752    -121.21     38.76                16.0       1608.0           296.0   \n",
       "\n",
       "       population  households  median_income  \n",
       "13325      1294.0       303.0         2.3636  \n",
       "20355       587.0       296.0         1.9811  \n",
       "7481        610.0       126.0         1.4861  \n",
       "15465      2328.0       801.0         3.3444  \n",
       "18116       903.0       322.0         6.3590  \n",
       "...           ...         ...            ...  \n",
       "994        2595.0      1067.0         3.9864  \n",
       "5377        669.0       269.0         3.9038  \n",
       "5448        960.0       449.0         3.6611  \n",
       "9813       1873.0       757.0         3.1543  \n",
       "11752       792.0       286.0         3.1583  \n",
       "\n",
       "[13828 rows x 8 columns]"
      ]
     },
     "execution_count": 34,
     "metadata": {},
     "output_type": "execute_result"
    }
   ],
   "source": [
    "# Get only numerical columns\n",
    "housing_num = housing.select_dtypes(include=[np.number])\n",
    "housing_num"
   ]
  },
  {
   "cell_type": "code",
   "execution_count": 35,
   "metadata": {},
   "outputs": [
    {
     "data": {
      "text/plain": [
       "SimpleImputer(strategy='median')"
      ]
     },
     "execution_count": 35,
     "metadata": {},
     "output_type": "execute_result"
    }
   ],
   "source": [
    "# The imputer object will be fit/trained on the housing_num data set.\n",
    "imputer.fit(housing_num)"
   ]
  },
  {
   "cell_type": "code",
   "execution_count": 36,
   "metadata": {},
   "outputs": [
    {
     "data": {
      "text/plain": [
       "array([[-1.1763e+02,  3.4060e+01,  3.9000e+01, ...,  1.2940e+03,\n",
       "         3.0300e+02,  2.3636e+00],\n",
       "       [-1.1896e+02,  3.4190e+01,  1.6000e+01, ...,  5.8700e+02,\n",
       "         2.9600e+02,  1.9811e+00],\n",
       "       [-1.1823e+02,  3.3930e+01,  2.3000e+01, ...,  6.1000e+02,\n",
       "         1.2600e+02,  1.4861e+00],\n",
       "       ...,\n",
       "       [-1.1842e+02,  3.4010e+01,  2.9000e+01, ...,  9.6000e+02,\n",
       "         4.4900e+02,  3.6611e+00],\n",
       "       [-1.2192e+02,  3.6610e+01,  2.9000e+01, ...,  1.8730e+03,\n",
       "         7.5700e+02,  3.1543e+00],\n",
       "       [-1.2121e+02,  3.8760e+01,  1.6000e+01, ...,  7.9200e+02,\n",
       "         2.8600e+02,  3.1583e+00]])"
      ]
     },
     "execution_count": 36,
     "metadata": {},
     "output_type": "execute_result"
    }
   ],
   "source": [
    "# Transform the data set by imputing the missing values with the median value\n",
    "# X gives an array, difficult to read\n",
    "X = imputer.transform(housing_num)\n",
    "X"
   ]
  },
  {
   "cell_type": "code",
   "execution_count": 37,
   "metadata": {},
   "outputs": [
    {
     "data": {
      "text/html": [
       "<div>\n",
       "<style scoped>\n",
       "    .dataframe tbody tr th:only-of-type {\n",
       "        vertical-align: middle;\n",
       "    }\n",
       "\n",
       "    .dataframe tbody tr th {\n",
       "        vertical-align: top;\n",
       "    }\n",
       "\n",
       "    .dataframe thead th {\n",
       "        text-align: right;\n",
       "    }\n",
       "</style>\n",
       "<table border=\"1\" class=\"dataframe\">\n",
       "  <thead>\n",
       "    <tr style=\"text-align: right;\">\n",
       "      <th></th>\n",
       "      <th>longitude</th>\n",
       "      <th>latitude</th>\n",
       "      <th>housing_median_age</th>\n",
       "      <th>total_rooms</th>\n",
       "      <th>total_bedrooms</th>\n",
       "      <th>population</th>\n",
       "      <th>households</th>\n",
       "      <th>median_income</th>\n",
       "    </tr>\n",
       "  </thead>\n",
       "  <tbody>\n",
       "    <tr>\n",
       "      <th>13325</th>\n",
       "      <td>-117.63</td>\n",
       "      <td>34.06</td>\n",
       "      <td>39.0</td>\n",
       "      <td>1210.0</td>\n",
       "      <td>310.0</td>\n",
       "      <td>1294.0</td>\n",
       "      <td>303.0</td>\n",
       "      <td>2.3636</td>\n",
       "    </tr>\n",
       "    <tr>\n",
       "      <th>20355</th>\n",
       "      <td>-118.96</td>\n",
       "      <td>34.19</td>\n",
       "      <td>16.0</td>\n",
       "      <td>1807.0</td>\n",
       "      <td>346.0</td>\n",
       "      <td>587.0</td>\n",
       "      <td>296.0</td>\n",
       "      <td>1.9811</td>\n",
       "    </tr>\n",
       "    <tr>\n",
       "      <th>7481</th>\n",
       "      <td>-118.23</td>\n",
       "      <td>33.93</td>\n",
       "      <td>23.0</td>\n",
       "      <td>545.0</td>\n",
       "      <td>131.0</td>\n",
       "      <td>610.0</td>\n",
       "      <td>126.0</td>\n",
       "      <td>1.4861</td>\n",
       "    </tr>\n",
       "    <tr>\n",
       "      <th>15465</th>\n",
       "      <td>-117.22</td>\n",
       "      <td>33.18</td>\n",
       "      <td>13.0</td>\n",
       "      <td>4273.0</td>\n",
       "      <td>886.0</td>\n",
       "      <td>2328.0</td>\n",
       "      <td>801.0</td>\n",
       "      <td>3.3444</td>\n",
       "    </tr>\n",
       "    <tr>\n",
       "      <th>18116</th>\n",
       "      <td>-122.02</td>\n",
       "      <td>37.30</td>\n",
       "      <td>32.0</td>\n",
       "      <td>2134.0</td>\n",
       "      <td>328.0</td>\n",
       "      <td>903.0</td>\n",
       "      <td>322.0</td>\n",
       "      <td>6.3590</td>\n",
       "    </tr>\n",
       "    <tr>\n",
       "      <th>...</th>\n",
       "      <td>...</td>\n",
       "      <td>...</td>\n",
       "      <td>...</td>\n",
       "      <td>...</td>\n",
       "      <td>...</td>\n",
       "      <td>...</td>\n",
       "      <td>...</td>\n",
       "      <td>...</td>\n",
       "    </tr>\n",
       "    <tr>\n",
       "      <th>994</th>\n",
       "      <td>-121.73</td>\n",
       "      <td>37.71</td>\n",
       "      <td>12.0</td>\n",
       "      <td>5608.0</td>\n",
       "      <td>1049.0</td>\n",
       "      <td>2595.0</td>\n",
       "      <td>1067.0</td>\n",
       "      <td>3.9864</td>\n",
       "    </tr>\n",
       "    <tr>\n",
       "      <th>5377</th>\n",
       "      <td>-118.39</td>\n",
       "      <td>34.04</td>\n",
       "      <td>49.0</td>\n",
       "      <td>1230.0</td>\n",
       "      <td>279.0</td>\n",
       "      <td>669.0</td>\n",
       "      <td>269.0</td>\n",
       "      <td>3.9038</td>\n",
       "    </tr>\n",
       "    <tr>\n",
       "      <th>5448</th>\n",
       "      <td>-118.42</td>\n",
       "      <td>34.01</td>\n",
       "      <td>29.0</td>\n",
       "      <td>1996.0</td>\n",
       "      <td>489.0</td>\n",
       "      <td>960.0</td>\n",
       "      <td>449.0</td>\n",
       "      <td>3.6611</td>\n",
       "    </tr>\n",
       "    <tr>\n",
       "      <th>9813</th>\n",
       "      <td>-121.92</td>\n",
       "      <td>36.61</td>\n",
       "      <td>29.0</td>\n",
       "      <td>3735.0</td>\n",
       "      <td>808.0</td>\n",
       "      <td>1873.0</td>\n",
       "      <td>757.0</td>\n",
       "      <td>3.1543</td>\n",
       "    </tr>\n",
       "    <tr>\n",
       "      <th>11752</th>\n",
       "      <td>-121.21</td>\n",
       "      <td>38.76</td>\n",
       "      <td>16.0</td>\n",
       "      <td>1608.0</td>\n",
       "      <td>296.0</td>\n",
       "      <td>792.0</td>\n",
       "      <td>286.0</td>\n",
       "      <td>3.1583</td>\n",
       "    </tr>\n",
       "  </tbody>\n",
       "</table>\n",
       "<p>13828 rows × 8 columns</p>\n",
       "</div>"
      ],
      "text/plain": [
       "       longitude  latitude  housing_median_age  total_rooms  total_bedrooms  \\\n",
       "13325    -117.63     34.06                39.0       1210.0           310.0   \n",
       "20355    -118.96     34.19                16.0       1807.0           346.0   \n",
       "7481     -118.23     33.93                23.0        545.0           131.0   \n",
       "15465    -117.22     33.18                13.0       4273.0           886.0   \n",
       "18116    -122.02     37.30                32.0       2134.0           328.0   \n",
       "...          ...       ...                 ...          ...             ...   \n",
       "994      -121.73     37.71                12.0       5608.0          1049.0   \n",
       "5377     -118.39     34.04                49.0       1230.0           279.0   \n",
       "5448     -118.42     34.01                29.0       1996.0           489.0   \n",
       "9813     -121.92     36.61                29.0       3735.0           808.0   \n",
       "11752    -121.21     38.76                16.0       1608.0           296.0   \n",
       "\n",
       "       population  households  median_income  \n",
       "13325      1294.0       303.0         2.3636  \n",
       "20355       587.0       296.0         1.9811  \n",
       "7481        610.0       126.0         1.4861  \n",
       "15465      2328.0       801.0         3.3444  \n",
       "18116       903.0       322.0         6.3590  \n",
       "...           ...         ...            ...  \n",
       "994        2595.0      1067.0         3.9864  \n",
       "5377        669.0       269.0         3.9038  \n",
       "5448        960.0       449.0         3.6611  \n",
       "9813       1873.0       757.0         3.1543  \n",
       "11752       792.0       286.0         3.1583  \n",
       "\n",
       "[13828 rows x 8 columns]"
      ]
     },
     "execution_count": 37,
     "metadata": {},
     "output_type": "execute_result"
    }
   ],
   "source": [
    "# Transform X into a data set\n",
    "housing_tr = pd.DataFrame(X, columns=housing_num.columns, index=housing_num.index)\n",
    "housing_tr"
   ]
  },
  {
   "cell_type": "code",
   "execution_count": 38,
   "metadata": {},
   "outputs": [
    {
     "data": {
      "text/plain": [
       "'median'"
      ]
     },
     "execution_count": 38,
     "metadata": {},
     "output_type": "execute_result"
    }
   ],
   "source": [
    "imputer.strategy"
   ]
  },
  {
   "cell_type": "markdown",
   "metadata": {},
   "source": [
    "## Encode Categorical variables"
   ]
  },
  {
   "cell_type": "markdown",
   "metadata": {},
   "source": [
    "Ordinal Encoder - is used to encode categorical variables when one variable is better than the other. Ex: great > good > neutral"
   ]
  },
  {
   "cell_type": "code",
   "execution_count": 39,
   "metadata": {},
   "outputs": [
    {
     "data": {
      "text/html": [
       "<div>\n",
       "<style scoped>\n",
       "    .dataframe tbody tr th:only-of-type {\n",
       "        vertical-align: middle;\n",
       "    }\n",
       "\n",
       "    .dataframe tbody tr th {\n",
       "        vertical-align: top;\n",
       "    }\n",
       "\n",
       "    .dataframe thead th {\n",
       "        text-align: right;\n",
       "    }\n",
       "</style>\n",
       "<table border=\"1\" class=\"dataframe\">\n",
       "  <thead>\n",
       "    <tr style=\"text-align: right;\">\n",
       "      <th></th>\n",
       "      <th>ocean_proximity</th>\n",
       "    </tr>\n",
       "  </thead>\n",
       "  <tbody>\n",
       "    <tr>\n",
       "      <th>13325</th>\n",
       "      <td>INLAND</td>\n",
       "    </tr>\n",
       "    <tr>\n",
       "      <th>20355</th>\n",
       "      <td>&lt;1H OCEAN</td>\n",
       "    </tr>\n",
       "    <tr>\n",
       "      <th>7481</th>\n",
       "      <td>&lt;1H OCEAN</td>\n",
       "    </tr>\n",
       "    <tr>\n",
       "      <th>15465</th>\n",
       "      <td>&lt;1H OCEAN</td>\n",
       "    </tr>\n",
       "    <tr>\n",
       "      <th>18116</th>\n",
       "      <td>&lt;1H OCEAN</td>\n",
       "    </tr>\n",
       "  </tbody>\n",
       "</table>\n",
       "</div>"
      ],
      "text/plain": [
       "      ocean_proximity\n",
       "13325          INLAND\n",
       "20355       <1H OCEAN\n",
       "7481        <1H OCEAN\n",
       "15465       <1H OCEAN\n",
       "18116       <1H OCEAN"
      ]
     },
     "execution_count": 39,
     "metadata": {},
     "output_type": "execute_result"
    }
   ],
   "source": [
    "housing_cat = housing[[\"ocean_proximity\"]]   # df[[]] --> gives the column as a df\n",
    "housing_cat.head()"
   ]
  },
  {
   "cell_type": "code",
   "execution_count": 40,
   "metadata": {},
   "outputs": [
    {
     "data": {
      "text/plain": [
       "array([[1.],\n",
       "       [0.],\n",
       "       [0.],\n",
       "       [0.],\n",
       "       [0.],\n",
       "       [1.],\n",
       "       [4.],\n",
       "       [0.],\n",
       "       [1.],\n",
       "       [0.]])"
      ]
     },
     "execution_count": 40,
     "metadata": {},
     "output_type": "execute_result"
    }
   ],
   "source": [
    "from sklearn.preprocessing import OrdinalEncoder\n",
    "\n",
    "ordinal_encoder = OrdinalEncoder()\n",
    "housing_cat_encoded = ordinal_encoder.fit_transform(housing_cat)\n",
    "housing_cat_encoded[0:10]"
   ]
  },
  {
   "cell_type": "code",
   "execution_count": 41,
   "metadata": {},
   "outputs": [
    {
     "data": {
      "text/plain": [
       "array([[0., 1., 0., 0., 0.],\n",
       "       [1., 0., 0., 0., 0.],\n",
       "       [1., 0., 0., 0., 0.],\n",
       "       ...,\n",
       "       [1., 0., 0., 0., 0.],\n",
       "       [0., 0., 0., 0., 1.],\n",
       "       [0., 1., 0., 0., 0.]])"
      ]
     },
     "execution_count": 41,
     "metadata": {},
     "output_type": "execute_result"
    }
   ],
   "source": [
    "# Instead we will use OneHotEncoder\n",
    "from sklearn.preprocessing import OneHotEncoder\n",
    "\n",
    "cat_encoder = OneHotEncoder(sparse=False) # False to return an array, else returns a sparse matrix\n",
    "housing_cat_1hot = cat_encoder.fit_transform(housing_cat)\n",
    "\n",
    "housing_cat_1hot # Creates a dense array i.e., all instances have a value, not just the ones that are encoded"
   ]
  },
  {
   "cell_type": "code",
   "execution_count": 42,
   "metadata": {},
   "outputs": [
    {
     "data": {
      "text/plain": [
       "[array(['<1H OCEAN', 'INLAND', 'ISLAND', 'NEAR BAY', 'NEAR OCEAN'],\n",
       "       dtype=object)]"
      ]
     },
     "execution_count": 42,
     "metadata": {},
     "output_type": "execute_result"
    }
   ],
   "source": [
    "cat_encoder.categories_"
   ]
  },
  {
   "cell_type": "markdown",
   "metadata": {},
   "source": [
    "## Feature Engineering"
   ]
  },
  {
   "cell_type": "markdown",
   "metadata": {},
   "source": [
    "Feature engineering uses domain knowledge to create new features (columns) using raw data"
   ]
  },
  {
   "cell_type": "code",
   "execution_count": 43,
   "metadata": {},
   "outputs": [],
   "source": [
    "def feature_engineering(data):\n",
    "    data['bedrooms_per_household'] = data['total_bedrooms']/data['households']\n",
    "    data['population_per_household'] = data['population']/data['households']\n",
    "    data['rooms_per_household'] = data['total_rooms']/data['households']\n",
    "\n",
    "    return data"
   ]
  },
  {
   "cell_type": "code",
   "execution_count": 44,
   "metadata": {},
   "outputs": [
    {
     "data": {
      "text/html": [
       "<div>\n",
       "<style scoped>\n",
       "    .dataframe tbody tr th:only-of-type {\n",
       "        vertical-align: middle;\n",
       "    }\n",
       "\n",
       "    .dataframe tbody tr th {\n",
       "        vertical-align: top;\n",
       "    }\n",
       "\n",
       "    .dataframe thead th {\n",
       "        text-align: right;\n",
       "    }\n",
       "</style>\n",
       "<table border=\"1\" class=\"dataframe\">\n",
       "  <thead>\n",
       "    <tr style=\"text-align: right;\">\n",
       "      <th></th>\n",
       "      <th>longitude</th>\n",
       "      <th>latitude</th>\n",
       "      <th>housing_median_age</th>\n",
       "      <th>total_rooms</th>\n",
       "      <th>total_bedrooms</th>\n",
       "      <th>population</th>\n",
       "      <th>households</th>\n",
       "      <th>median_income</th>\n",
       "      <th>bedrooms_per_household</th>\n",
       "      <th>population_per_household</th>\n",
       "      <th>rooms_per_household</th>\n",
       "    </tr>\n",
       "  </thead>\n",
       "  <tbody>\n",
       "    <tr>\n",
       "      <th>13325</th>\n",
       "      <td>-117.63</td>\n",
       "      <td>34.06</td>\n",
       "      <td>39.0</td>\n",
       "      <td>1210.0</td>\n",
       "      <td>310.0</td>\n",
       "      <td>1294.0</td>\n",
       "      <td>303.0</td>\n",
       "      <td>2.3636</td>\n",
       "      <td>1.023102</td>\n",
       "      <td>4.270627</td>\n",
       "      <td>3.993399</td>\n",
       "    </tr>\n",
       "    <tr>\n",
       "      <th>20355</th>\n",
       "      <td>-118.96</td>\n",
       "      <td>34.19</td>\n",
       "      <td>16.0</td>\n",
       "      <td>1807.0</td>\n",
       "      <td>346.0</td>\n",
       "      <td>587.0</td>\n",
       "      <td>296.0</td>\n",
       "      <td>1.9811</td>\n",
       "      <td>1.168919</td>\n",
       "      <td>1.983108</td>\n",
       "      <td>6.104730</td>\n",
       "    </tr>\n",
       "    <tr>\n",
       "      <th>7481</th>\n",
       "      <td>-118.23</td>\n",
       "      <td>33.93</td>\n",
       "      <td>23.0</td>\n",
       "      <td>545.0</td>\n",
       "      <td>131.0</td>\n",
       "      <td>610.0</td>\n",
       "      <td>126.0</td>\n",
       "      <td>1.4861</td>\n",
       "      <td>1.039683</td>\n",
       "      <td>4.841270</td>\n",
       "      <td>4.325397</td>\n",
       "    </tr>\n",
       "    <tr>\n",
       "      <th>15465</th>\n",
       "      <td>-117.22</td>\n",
       "      <td>33.18</td>\n",
       "      <td>13.0</td>\n",
       "      <td>4273.0</td>\n",
       "      <td>886.0</td>\n",
       "      <td>2328.0</td>\n",
       "      <td>801.0</td>\n",
       "      <td>3.3444</td>\n",
       "      <td>1.106117</td>\n",
       "      <td>2.906367</td>\n",
       "      <td>5.334582</td>\n",
       "    </tr>\n",
       "    <tr>\n",
       "      <th>18116</th>\n",
       "      <td>-122.02</td>\n",
       "      <td>37.30</td>\n",
       "      <td>32.0</td>\n",
       "      <td>2134.0</td>\n",
       "      <td>328.0</td>\n",
       "      <td>903.0</td>\n",
       "      <td>322.0</td>\n",
       "      <td>6.3590</td>\n",
       "      <td>1.018634</td>\n",
       "      <td>2.804348</td>\n",
       "      <td>6.627329</td>\n",
       "    </tr>\n",
       "    <tr>\n",
       "      <th>...</th>\n",
       "      <td>...</td>\n",
       "      <td>...</td>\n",
       "      <td>...</td>\n",
       "      <td>...</td>\n",
       "      <td>...</td>\n",
       "      <td>...</td>\n",
       "      <td>...</td>\n",
       "      <td>...</td>\n",
       "      <td>...</td>\n",
       "      <td>...</td>\n",
       "      <td>...</td>\n",
       "    </tr>\n",
       "    <tr>\n",
       "      <th>994</th>\n",
       "      <td>-121.73</td>\n",
       "      <td>37.71</td>\n",
       "      <td>12.0</td>\n",
       "      <td>5608.0</td>\n",
       "      <td>1049.0</td>\n",
       "      <td>2595.0</td>\n",
       "      <td>1067.0</td>\n",
       "      <td>3.9864</td>\n",
       "      <td>0.983130</td>\n",
       "      <td>2.432052</td>\n",
       "      <td>5.255858</td>\n",
       "    </tr>\n",
       "    <tr>\n",
       "      <th>5377</th>\n",
       "      <td>-118.39</td>\n",
       "      <td>34.04</td>\n",
       "      <td>49.0</td>\n",
       "      <td>1230.0</td>\n",
       "      <td>279.0</td>\n",
       "      <td>669.0</td>\n",
       "      <td>269.0</td>\n",
       "      <td>3.9038</td>\n",
       "      <td>1.037175</td>\n",
       "      <td>2.486989</td>\n",
       "      <td>4.572491</td>\n",
       "    </tr>\n",
       "    <tr>\n",
       "      <th>5448</th>\n",
       "      <td>-118.42</td>\n",
       "      <td>34.01</td>\n",
       "      <td>29.0</td>\n",
       "      <td>1996.0</td>\n",
       "      <td>489.0</td>\n",
       "      <td>960.0</td>\n",
       "      <td>449.0</td>\n",
       "      <td>3.6611</td>\n",
       "      <td>1.089087</td>\n",
       "      <td>2.138085</td>\n",
       "      <td>4.445434</td>\n",
       "    </tr>\n",
       "    <tr>\n",
       "      <th>9813</th>\n",
       "      <td>-121.92</td>\n",
       "      <td>36.61</td>\n",
       "      <td>29.0</td>\n",
       "      <td>3735.0</td>\n",
       "      <td>808.0</td>\n",
       "      <td>1873.0</td>\n",
       "      <td>757.0</td>\n",
       "      <td>3.1543</td>\n",
       "      <td>1.067371</td>\n",
       "      <td>2.474240</td>\n",
       "      <td>4.933950</td>\n",
       "    </tr>\n",
       "    <tr>\n",
       "      <th>11752</th>\n",
       "      <td>-121.21</td>\n",
       "      <td>38.76</td>\n",
       "      <td>16.0</td>\n",
       "      <td>1608.0</td>\n",
       "      <td>296.0</td>\n",
       "      <td>792.0</td>\n",
       "      <td>286.0</td>\n",
       "      <td>3.1583</td>\n",
       "      <td>1.034965</td>\n",
       "      <td>2.769231</td>\n",
       "      <td>5.622378</td>\n",
       "    </tr>\n",
       "  </tbody>\n",
       "</table>\n",
       "<p>13828 rows × 11 columns</p>\n",
       "</div>"
      ],
      "text/plain": [
       "       longitude  latitude  housing_median_age  total_rooms  total_bedrooms  \\\n",
       "13325    -117.63     34.06                39.0       1210.0           310.0   \n",
       "20355    -118.96     34.19                16.0       1807.0           346.0   \n",
       "7481     -118.23     33.93                23.0        545.0           131.0   \n",
       "15465    -117.22     33.18                13.0       4273.0           886.0   \n",
       "18116    -122.02     37.30                32.0       2134.0           328.0   \n",
       "...          ...       ...                 ...          ...             ...   \n",
       "994      -121.73     37.71                12.0       5608.0          1049.0   \n",
       "5377     -118.39     34.04                49.0       1230.0           279.0   \n",
       "5448     -118.42     34.01                29.0       1996.0           489.0   \n",
       "9813     -121.92     36.61                29.0       3735.0           808.0   \n",
       "11752    -121.21     38.76                16.0       1608.0           296.0   \n",
       "\n",
       "       population  households  median_income  bedrooms_per_household  \\\n",
       "13325      1294.0       303.0         2.3636                1.023102   \n",
       "20355       587.0       296.0         1.9811                1.168919   \n",
       "7481        610.0       126.0         1.4861                1.039683   \n",
       "15465      2328.0       801.0         3.3444                1.106117   \n",
       "18116       903.0       322.0         6.3590                1.018634   \n",
       "...           ...         ...            ...                     ...   \n",
       "994        2595.0      1067.0         3.9864                0.983130   \n",
       "5377        669.0       269.0         3.9038                1.037175   \n",
       "5448        960.0       449.0         3.6611                1.089087   \n",
       "9813       1873.0       757.0         3.1543                1.067371   \n",
       "11752       792.0       286.0         3.1583                1.034965   \n",
       "\n",
       "       population_per_household  rooms_per_household  \n",
       "13325                  4.270627             3.993399  \n",
       "20355                  1.983108             6.104730  \n",
       "7481                   4.841270             4.325397  \n",
       "15465                  2.906367             5.334582  \n",
       "18116                  2.804348             6.627329  \n",
       "...                         ...                  ...  \n",
       "994                    2.432052             5.255858  \n",
       "5377                   2.486989             4.572491  \n",
       "5448                   2.138085             4.445434  \n",
       "9813                   2.474240             4.933950  \n",
       "11752                  2.769231             5.622378  \n",
       "\n",
       "[13828 rows x 11 columns]"
      ]
     },
     "execution_count": 44,
     "metadata": {},
     "output_type": "execute_result"
    }
   ],
   "source": [
    "housing_feature_engineered = feature_engineering(housing_num)\n",
    "housing_feature_engineered"
   ]
  },
  {
   "cell_type": "markdown",
   "metadata": {},
   "source": [
    "## Scale our data"
   ]
  },
  {
   "cell_type": "markdown",
   "metadata": {},
   "source": [
    "We have to scale our data to cope for large differences between numbers from different columns "
   ]
  },
  {
   "cell_type": "code",
   "execution_count": 45,
   "metadata": {},
   "outputs": [
    {
     "data": {
      "text/plain": [
       "array([[ 0.97214485, -0.73940276,  0.81321472, ..., -0.15477506,\n",
       "         0.11294847, -0.59541575],\n",
       "       [ 0.30675114, -0.6783732 , -1.01770862, ...,  0.14740985,\n",
       "        -0.09912619,  0.27582913],\n",
       "       [ 0.67196724, -0.80043233, -0.46047108, ..., -0.12041481,\n",
       "         0.16585245, -0.4584163 ],\n",
       "       ...,\n",
       "       [ 0.57691099, -0.76287567,  0.01716109, ..., -0.01803113,\n",
       "        -0.0847584 , -0.40888259],\n",
       "       [-1.17412507,  0.45771563,  0.01716109, ..., -0.06303385,\n",
       "        -0.05359357, -0.20729565],\n",
       "       [-0.8189149 ,  1.46705074, -1.01770862, ..., -0.13019119,\n",
       "        -0.02624518,  0.07678552]])"
      ]
     },
     "execution_count": 45,
     "metadata": {},
     "output_type": "execute_result"
    }
   ],
   "source": [
    "from sklearn.preprocessing import StandardScaler\n",
    "\n",
    "scaler = StandardScaler()\n",
    "housing_scaled = scaler.fit_transform(housing_feature_engineered)\n",
    "housing_scaled"
   ]
  },
  {
   "cell_type": "markdown",
   "metadata": {},
   "source": [
    "### **Pipelines**"
   ]
  },
  {
   "cell_type": "markdown",
   "metadata": {},
   "source": [
    "Pipelines are features built into sklearnthat allow us to easily apply a number of transformations one after the other. We can also create our own pipeline function "
   ]
  },
  {
   "cell_type": "code",
   "execution_count": 46,
   "metadata": {},
   "outputs": [],
   "source": [
    "housing = strat_train_set.drop(\"median_house_value\", axis=1)\n",
    "housing_labels = strat_train_set[\"median_house_value\"].copy()\n",
    "\n",
    "def data_transformations(data):\n",
    "    \n",
    "    ### Separate labels if they exist ### Labels = test set\n",
    "\n",
    "    if \"median_house_value\" in data.columns:\n",
    "        labels = data[\"median_house_value\"]\n",
    "        data = data.drop(\"median_house_value\", axis=1)\n",
    "    else:\n",
    "        labels = None\n",
    "    \n",
    "    ### Feature engineering ###\n",
    "\n",
    "    feature_engineered_data = feature_engineering(data)\n",
    "    features = list(feature_engineered_data.columns)\n",
    "\n",
    "    ### Imputing data ###\n",
    "    \n",
    "    from sklearn.impute import SimpleImputer\n",
    "    imputer = SimpleImputer(strategy='median')\n",
    "    housing_num = feature_engineered_data.select_dtypes(include=[np.number])\n",
    "    imputed = imputer.fit_transform(housing_num)\n",
    "\n",
    "    ### Encoding Categorical data ###\n",
    "\n",
    "    from sklearn.preprocessing import OneHotEncoder\n",
    "    cat_encoder = OneHotEncoder(sparse=False)  \n",
    "    housing_cat = feature_engineered_data.select_dtypes(exclude=[np.number])\n",
    "    housing_cat_1hot = cat_encoder.fit_transform(housing_cat)\n",
    "    features = features + cat_encoder.categories_[0].tolist()\n",
    "    features.remove(\"ocean_proximity\")    # We are encoding this variable, hence not required in our list\n",
    "\n",
    "    ### Scaling numerical data ###\n",
    "\n",
    "    from sklearn.preprocessing import StandardScaler\n",
    "    scaler = StandardScaler()\n",
    "    housing_scaled = scaler.fit_transform(imputed)\n",
    "\n",
    "    ### Concatenate all the data ###\n",
    "\n",
    "    output = np.hstack([housing_scaled,housing_cat_1hot])\n",
    "\n",
    "    return output, labels, features"
   ]
  },
  {
   "cell_type": "markdown",
   "metadata": {},
   "source": [
    "## Select and Train the model"
   ]
  },
  {
   "cell_type": "code",
   "execution_count": 47,
   "metadata": {},
   "outputs": [
    {
     "data": {
      "text/plain": [
       "array([[ 0.97214485, -0.73940276,  0.81321472, ...,  0.        ,\n",
       "         0.        ,  0.        ],\n",
       "       [ 0.30675114, -0.6783732 , -1.01770862, ...,  0.        ,\n",
       "         0.        ,  0.        ],\n",
       "       [ 0.67196724, -0.80043233, -0.46047108, ...,  0.        ,\n",
       "         0.        ,  0.        ],\n",
       "       ...,\n",
       "       [ 0.57691099, -0.76287567,  0.01716109, ...,  0.        ,\n",
       "         0.        ,  0.        ],\n",
       "       [-1.17412507,  0.45771563,  0.01716109, ...,  0.        ,\n",
       "         0.        ,  1.        ],\n",
       "       [-0.8189149 ,  1.46705074, -1.01770862, ...,  0.        ,\n",
       "         0.        ,  0.        ]])"
      ]
     },
     "execution_count": 47,
     "metadata": {},
     "output_type": "execute_result"
    }
   ],
   "source": [
    "train_data, train_labels, features = data_transformations(strat_train_set)\n",
    "train_data"
   ]
  },
  {
   "cell_type": "code",
   "execution_count": 48,
   "metadata": {},
   "outputs": [
    {
     "data": {
      "text/plain": [
       "['longitude',\n",
       " 'latitude',\n",
       " 'housing_median_age',\n",
       " 'total_rooms',\n",
       " 'total_bedrooms',\n",
       " 'population',\n",
       " 'households',\n",
       " 'median_income',\n",
       " 'bedrooms_per_household',\n",
       " 'population_per_household',\n",
       " 'rooms_per_household',\n",
       " '<1H OCEAN',\n",
       " 'INLAND',\n",
       " 'ISLAND',\n",
       " 'NEAR BAY',\n",
       " 'NEAR OCEAN']"
      ]
     },
     "execution_count": 48,
     "metadata": {},
     "output_type": "execute_result"
    }
   ],
   "source": [
    "test_data, test_labels, features = data_transformations(strat_test_set)\n",
    "features"
   ]
  },
  {
   "cell_type": "markdown",
   "metadata": {},
   "source": [
    "## Linear regression"
   ]
  },
  {
   "cell_type": "code",
   "execution_count": 49,
   "metadata": {},
   "outputs": [
    {
     "data": {
      "text/plain": [
       "LinearRegression()"
      ]
     },
     "execution_count": 49,
     "metadata": {},
     "output_type": "execute_result"
    }
   ],
   "source": [
    "from sklearn.linear_model import LinearRegression\n",
    "\n",
    "lin_reg = LinearRegression()\n",
    "lin_reg.fit(train_data, train_labels)   # LR model will find out how train_data relates to train_labels"
   ]
  },
  {
   "cell_type": "code",
   "execution_count": 50,
   "metadata": {},
   "outputs": [
    {
     "data": {
      "text/html": [
       "<div>\n",
       "<style scoped>\n",
       "    .dataframe tbody tr th:only-of-type {\n",
       "        vertical-align: middle;\n",
       "    }\n",
       "\n",
       "    .dataframe tbody tr th {\n",
       "        vertical-align: top;\n",
       "    }\n",
       "\n",
       "    .dataframe thead th {\n",
       "        text-align: right;\n",
       "    }\n",
       "</style>\n",
       "<table border=\"1\" class=\"dataframe\">\n",
       "  <thead>\n",
       "    <tr style=\"text-align: right;\">\n",
       "      <th></th>\n",
       "      <th>Original values</th>\n",
       "      <th>Predicted values</th>\n",
       "      <th>Differences</th>\n",
       "    </tr>\n",
       "  </thead>\n",
       "  <tbody>\n",
       "    <tr>\n",
       "      <th>6770</th>\n",
       "      <td>469100.0</td>\n",
       "      <td>379600.288363</td>\n",
       "      <td>89499.711637</td>\n",
       "    </tr>\n",
       "    <tr>\n",
       "      <th>18823</th>\n",
       "      <td>43500.0</td>\n",
       "      <td>17211.877451</td>\n",
       "      <td>26288.122549</td>\n",
       "    </tr>\n",
       "    <tr>\n",
       "      <th>7674</th>\n",
       "      <td>171100.0</td>\n",
       "      <td>242051.359756</td>\n",
       "      <td>-70951.359756</td>\n",
       "    </tr>\n",
       "    <tr>\n",
       "      <th>15312</th>\n",
       "      <td>106300.0</td>\n",
       "      <td>148613.375081</td>\n",
       "      <td>-42313.375081</td>\n",
       "    </tr>\n",
       "    <tr>\n",
       "      <th>3607</th>\n",
       "      <td>169400.0</td>\n",
       "      <td>147627.303451</td>\n",
       "      <td>21772.696549</td>\n",
       "    </tr>\n",
       "  </tbody>\n",
       "</table>\n",
       "</div>"
      ],
      "text/plain": [
       "       Original values  Predicted values   Differences\n",
       "6770          469100.0     379600.288363  89499.711637\n",
       "18823          43500.0      17211.877451  26288.122549\n",
       "7674          171100.0     242051.359756 -70951.359756\n",
       "15312         106300.0     148613.375081 -42313.375081\n",
       "3607          169400.0     147627.303451  21772.696549"
      ]
     },
     "execution_count": 50,
     "metadata": {},
     "output_type": "execute_result"
    }
   ],
   "source": [
    "# Compare against some test data\n",
    "original_values = test_labels[0:5]   # \n",
    "predicted_values = lin_reg.predict(test_data[0:5])   # use 1st 5 rows of test_data as imput to predict values that look like test_labels[0:5] \n",
    "\n",
    "comparison_dataframe = pd.DataFrame(data={'Original values':original_values,'Predicted values':predicted_values})\n",
    "comparison_dataframe['Differences'] = comparison_dataframe['Original values'] - comparison_dataframe['Predicted values']\n",
    "\n",
    "comparison_dataframe"
   ]
  },
  {
   "cell_type": "code",
   "execution_count": 51,
   "metadata": {},
   "outputs": [
    {
     "data": {
      "text/plain": [
       "56568.24417862148"
      ]
     },
     "execution_count": 51,
     "metadata": {},
     "output_type": "execute_result"
    }
   ],
   "source": [
    "# Use metrics to evaluate the model\n",
    "from sklearn.metrics import mean_squared_error\n",
    "\n",
    "# mse = mean squred error ; rmse = root mean squared error\n",
    "lin_mse = mean_squared_error(original_values,predicted_values)\n",
    "lin_rmse = np.sqrt(lin_mse)\n",
    "lin_rmse"
   ]
  },
  {
   "cell_type": "code",
   "execution_count": 52,
   "metadata": {},
   "outputs": [
    {
     "data": {
      "text/plain": [
       "50165.05311447864"
      ]
     },
     "execution_count": 52,
     "metadata": {},
     "output_type": "execute_result"
    }
   ],
   "source": [
    "# Use metrics to evaluate the model\n",
    "from sklearn.metrics import mean_absolute_error\n",
    "\n",
    "# mae = mean absolute error\n",
    "lin_mae = mean_absolute_error(original_values,predicted_values)\n",
    "lin_mae"
   ]
  },
  {
   "cell_type": "markdown",
   "metadata": {},
   "source": [
    "*The errors are too large to consider the above linear model. Therefore we have to use a different algorithms to predict house values*"
   ]
  },
  {
   "cell_type": "markdown",
   "metadata": {},
   "source": [
    "## Decision Tree Regressor"
   ]
  },
  {
   "cell_type": "code",
   "execution_count": 53,
   "metadata": {},
   "outputs": [
    {
     "data": {
      "text/plain": [
       "DecisionTreeRegressor(random_state=42)"
      ]
     },
     "execution_count": 53,
     "metadata": {},
     "output_type": "execute_result"
    }
   ],
   "source": [
    "from sklearn.tree import DecisionTreeRegressor\n",
    "\n",
    "# At what random state is the computer going to start at? Without random state, the model will give me a different result everytime we run it\n",
    "tree_reg = DecisionTreeRegressor(random_state=42)   \n",
    "tree_reg.fit(train_data,train_labels)"
   ]
  },
  {
   "cell_type": "code",
   "execution_count": 54,
   "metadata": {},
   "outputs": [
    {
     "data": {
      "text/plain": [
       "0.0"
      ]
     },
     "execution_count": 54,
     "metadata": {},
     "output_type": "execute_result"
    }
   ],
   "source": [
    "train_predictions = tree_reg.predict(train_data)\n",
    "tree_mse = mean_squared_error(train_labels,train_predictions)\n",
    "tree_rmse = np.sqrt(tree_mse)\n",
    "tree_rmse"
   ]
  },
  {
   "cell_type": "markdown",
   "metadata": {},
   "source": [
    "*Zero error indicates that we might have overfit our data, we have to cross validate our model by using K-fold cross validation \n",
    "where our data is split into 10 folds, out of which 9 folds are used for training and 1 fold is used for testing. All 10 folds are \n",
    "trained and tested in all permutation and combination. This way we can rigorously evaluate our model and obatin a less accurate but \n",
    "slightly under fitted data. Suitable for smaller datasets*"
   ]
  },
  {
   "cell_type": "markdown",
   "metadata": {},
   "source": [
    "## Cross Validation"
   ]
  },
  {
   "cell_type": "code",
   "execution_count": 55,
   "metadata": {},
   "outputs": [],
   "source": [
    "from sklearn.model_selection import cross_val_score\n",
    "\n",
    "scores = cross_val_score(tree_reg, train_data, train_labels, scoring='neg_mean_squared_error',cv=10)\n",
    "tree_rmse_scores = np.sqrt(-scores)\n"
   ]
  },
  {
   "cell_type": "code",
   "execution_count": 56,
   "metadata": {},
   "outputs": [
    {
     "name": "stdout",
     "output_type": "stream",
     "text": [
      "Scores: [76220.52260375 68958.45984352 72963.6967282  72639.3823428\n",
      " 71381.29257966 74592.82178362 72422.76033075 71934.93159686\n",
      " 71105.00488616 74148.44095553]\n",
      "Mean: 72636.73136508498\n",
      "Stdev: 1924.8981553529243\n"
     ]
    }
   ],
   "source": [
    "def display_scores(scores):\n",
    "    print('Scores:',scores)\n",
    "    print('Mean:',scores.mean())\n",
    "    print('Stdev:',scores.std())\n",
    "\n",
    "display_scores(tree_rmse_scores)"
   ]
  },
  {
   "cell_type": "markdown",
   "metadata": {},
   "source": [
    "## Random forest regressor\n",
    "*Runs a group of decision tree regressors one after the other*"
   ]
  },
  {
   "cell_type": "code",
   "execution_count": 58,
   "metadata": {},
   "outputs": [
    {
     "data": {
      "text/plain": [
       "RandomForestRegressor(random_state=42)"
      ]
     },
     "execution_count": 58,
     "metadata": {},
     "output_type": "execute_result"
    }
   ],
   "source": [
    "from sklearn.ensemble import RandomForestRegressor\n",
    "\n",
    "# At what random state is the computer going to start at? Without random state, the model will give me a different result everytime we run it\n",
    "forest_reg = RandomForestRegressor(n_estimators = 100, random_state = 42)   \n",
    "forest_reg.fit(train_data,train_labels)"
   ]
  },
  {
   "cell_type": "code",
   "execution_count": 60,
   "metadata": {},
   "outputs": [
    {
     "data": {
      "text/plain": [
       "18867.60548290274"
      ]
     },
     "execution_count": 60,
     "metadata": {},
     "output_type": "execute_result"
    }
   ],
   "source": [
    "train_predictions = forest_reg.predict(train_data)\n",
    "forest_mse = mean_squared_error(train_labels,train_predictions)\n",
    "forest_rmse = np.sqrt(forest_mse)\n",
    "forest_rmse"
   ]
  },
  {
   "cell_type": "code",
   "execution_count": 61,
   "metadata": {},
   "outputs": [
    {
     "name": "stdout",
     "output_type": "stream",
     "text": [
      "Scores: [52491.05877457 48585.49509227 50880.13559337 53157.88969061\n",
      " 49470.96845553 52781.51394667 51589.72789233 49360.53318538\n",
      " 49915.26775004 49996.89953999]\n",
      "Mean: 50822.94899207534\n",
      "Stdev: 1521.2064105122688\n"
     ]
    }
   ],
   "source": [
    "# Run cross validation\n",
    "from sklearn.model_selection import cross_val_score\n",
    "\n",
    "forest_scores = cross_val_score(forest_reg, train_data, train_labels, scoring='neg_mean_squared_error',cv=10)\n",
    "forest_rmse_scores = np.sqrt(-forest_scores)\n",
    "display_scores(forest_rmse_scores)"
   ]
  },
  {
   "cell_type": "markdown",
   "metadata": {},
   "source": [
    "*We have got a better prediction with Random forest regressor model*"
   ]
  },
  {
   "cell_type": "markdown",
   "metadata": {},
   "source": [
    "## Fine tuning the model\n",
    "*After we pick a set of models that are promising, we will have to fine tune the hyperparameters (Basically, anything in machine learning and deep learning that you decide their values or choose their configuration before training begins and whose values or configuration will remain the same when training ends is a hyperparameter, which are used to control the learning process) in order to find the best ones to use for our model. We can use grid search to accomplish this*"
   ]
  },
  {
   "cell_type": "markdown",
   "metadata": {},
   "source": [
    "### Grid search"
   ]
  },
  {
   "cell_type": "code",
   "execution_count": 63,
   "metadata": {},
   "outputs": [
    {
     "data": {
      "text/plain": [
       "GridSearchCV(cv=5, estimator=RandomForestRegressor(random_state=42),\n",
       "             param_grid=[{'max_features': [2, 4, 6, 8],\n",
       "                          'n_estimators': [3, 10, 30]},\n",
       "                         {'bootstrap': [False], 'max_features': [2, 3, 4],\n",
       "                          'n_estimators': [3, 10]}],\n",
       "             return_train_score=True, scoring='neg_mean_squared_error')"
      ]
     },
     "execution_count": 63,
     "metadata": {},
     "output_type": "execute_result"
    }
   ],
   "source": [
    "from sklearn.model_selection import GridSearchCV\n",
    "\n",
    "param_grid = [\n",
    "    # Try 12 (3*4) combinations of hyperparameters\n",
    "    {'n_estimators': [3,10,30], 'max_features': [2,4,6,8]},\n",
    "    # Try 6 (2*3) combinations with bootstrap set as False\n",
    "    {'bootstrap': [False],'n_estimators': [3,10], 'max_features': [2,3,4]}\n",
    "]\n",
    "\n",
    "forest_reg = RandomForestRegressor(random_state=42)\n",
    "# Train across 5 folds, that's total of (12+6)*5=90 rounds of training\n",
    "grid_search = GridSearchCV(forest_reg, param_grid, cv=5, scoring='neg_mean_squared_error', return_train_score=True)\n",
    "grid_search.fit(train_data,train_labels)"
   ]
  },
  {
   "cell_type": "code",
   "execution_count": 64,
   "metadata": {},
   "outputs": [
    {
     "data": {
      "text/plain": [
       "{'max_features': 6, 'n_estimators': 30}"
      ]
     },
     "execution_count": 64,
     "metadata": {},
     "output_type": "execute_result"
    }
   ],
   "source": [
    "# Best parameters\n",
    "grid_search.best_params_"
   ]
  },
  {
   "cell_type": "code",
   "execution_count": 65,
   "metadata": {},
   "outputs": [
    {
     "data": {
      "text/plain": [
       "RandomForestRegressor(max_features=6, n_estimators=30, random_state=42)"
      ]
     },
     "execution_count": 65,
     "metadata": {},
     "output_type": "execute_result"
    }
   ],
   "source": [
    "# Best estimator\n",
    "grid_search.best_estimator_"
   ]
  },
  {
   "cell_type": "code",
   "execution_count": 66,
   "metadata": {},
   "outputs": [
    {
     "name": "stdout",
     "output_type": "stream",
     "text": [
      "65812.86328325889 {'max_features': 2, 'n_estimators': 3}\n",
      "56182.58728317135 {'max_features': 2, 'n_estimators': 10}\n",
      "54022.0953854141 {'max_features': 2, 'n_estimators': 30}\n",
      "62198.571829149245 {'max_features': 4, 'n_estimators': 3}\n",
      "53508.92715929003 {'max_features': 4, 'n_estimators': 10}\n",
      "50872.52067402393 {'max_features': 4, 'n_estimators': 30}\n",
      "58310.767455230314 {'max_features': 6, 'n_estimators': 3}\n",
      "52338.21490907741 {'max_features': 6, 'n_estimators': 10}\n",
      "50395.23355010334 {'max_features': 6, 'n_estimators': 30}\n",
      "58954.75357311551 {'max_features': 8, 'n_estimators': 3}\n",
      "52702.9504927101 {'max_features': 8, 'n_estimators': 10}\n",
      "50426.94529947769 {'max_features': 8, 'n_estimators': 30}\n",
      "63673.48769755632 {'bootstrap': False, 'max_features': 2, 'n_estimators': 3}\n",
      "54852.69359013511 {'bootstrap': False, 'max_features': 2, 'n_estimators': 10}\n",
      "59739.303568003175 {'bootstrap': False, 'max_features': 3, 'n_estimators': 3}\n",
      "52802.21867042155 {'bootstrap': False, 'max_features': 3, 'n_estimators': 10}\n",
      "60105.246994300636 {'bootstrap': False, 'max_features': 4, 'n_estimators': 3}\n",
      "52181.30540355525 {'bootstrap': False, 'max_features': 4, 'n_estimators': 10}\n"
     ]
    }
   ],
   "source": [
    "# now we have to cross validate our grid_search results\n",
    "cvres = grid_search.cv_results_\n",
    "for mean_score,params in zip(cvres['mean_test_score'],cvres['params']):\n",
    "    print(np.sqrt(-mean_score),params)"
   ]
  },
  {
   "cell_type": "code",
   "execution_count": 68,
   "metadata": {},
   "outputs": [
    {
     "data": {
      "text/html": [
       "<div>\n",
       "<style scoped>\n",
       "    .dataframe tbody tr th:only-of-type {\n",
       "        vertical-align: middle;\n",
       "    }\n",
       "\n",
       "    .dataframe tbody tr th {\n",
       "        vertical-align: top;\n",
       "    }\n",
       "\n",
       "    .dataframe thead th {\n",
       "        text-align: right;\n",
       "    }\n",
       "</style>\n",
       "<table border=\"1\" class=\"dataframe\">\n",
       "  <thead>\n",
       "    <tr style=\"text-align: right;\">\n",
       "      <th></th>\n",
       "      <th>mean_fit_time</th>\n",
       "      <th>std_fit_time</th>\n",
       "      <th>mean_score_time</th>\n",
       "      <th>std_score_time</th>\n",
       "      <th>param_max_features</th>\n",
       "      <th>param_n_estimators</th>\n",
       "      <th>param_bootstrap</th>\n",
       "      <th>params</th>\n",
       "      <th>split0_test_score</th>\n",
       "      <th>split1_test_score</th>\n",
       "      <th>...</th>\n",
       "      <th>mean_test_score</th>\n",
       "      <th>std_test_score</th>\n",
       "      <th>rank_test_score</th>\n",
       "      <th>split0_train_score</th>\n",
       "      <th>split1_train_score</th>\n",
       "      <th>split2_train_score</th>\n",
       "      <th>split3_train_score</th>\n",
       "      <th>split4_train_score</th>\n",
       "      <th>mean_train_score</th>\n",
       "      <th>std_train_score</th>\n",
       "    </tr>\n",
       "  </thead>\n",
       "  <tbody>\n",
       "    <tr>\n",
       "      <th>0</th>\n",
       "      <td>0.067284</td>\n",
       "      <td>0.023681</td>\n",
       "      <td>0.003931</td>\n",
       "      <td>0.002031</td>\n",
       "      <td>2</td>\n",
       "      <td>3</td>\n",
       "      <td>NaN</td>\n",
       "      <td>{'max_features': 2, 'n_estimators': 3}</td>\n",
       "      <td>-4.037016e+09</td>\n",
       "      <td>-4.550480e+09</td>\n",
       "      <td>...</td>\n",
       "      <td>-4.331333e+09</td>\n",
       "      <td>2.016197e+08</td>\n",
       "      <td>18</td>\n",
       "      <td>-1.131347e+09</td>\n",
       "      <td>-1.196735e+09</td>\n",
       "      <td>-1.127395e+09</td>\n",
       "      <td>-1.199818e+09</td>\n",
       "      <td>-1.161183e+09</td>\n",
       "      <td>-1.163296e+09</td>\n",
       "      <td>3.087447e+07</td>\n",
       "    </tr>\n",
       "    <tr>\n",
       "      <th>1</th>\n",
       "      <td>0.189740</td>\n",
       "      <td>0.026217</td>\n",
       "      <td>0.012946</td>\n",
       "      <td>0.007570</td>\n",
       "      <td>2</td>\n",
       "      <td>10</td>\n",
       "      <td>NaN</td>\n",
       "      <td>{'max_features': 2, 'n_estimators': 10}</td>\n",
       "      <td>-3.114622e+09</td>\n",
       "      <td>-3.303163e+09</td>\n",
       "      <td>...</td>\n",
       "      <td>-3.156483e+09</td>\n",
       "      <td>8.944773e+07</td>\n",
       "      <td>11</td>\n",
       "      <td>-5.947299e+08</td>\n",
       "      <td>-6.057897e+08</td>\n",
       "      <td>-6.016766e+08</td>\n",
       "      <td>-6.094405e+08</td>\n",
       "      <td>-6.044697e+08</td>\n",
       "      <td>-6.032213e+08</td>\n",
       "      <td>4.925925e+06</td>\n",
       "    </tr>\n",
       "    <tr>\n",
       "      <th>2</th>\n",
       "      <td>0.559276</td>\n",
       "      <td>0.035517</td>\n",
       "      <td>0.025201</td>\n",
       "      <td>0.002780</td>\n",
       "      <td>2</td>\n",
       "      <td>30</td>\n",
       "      <td>NaN</td>\n",
       "      <td>{'max_features': 2, 'n_estimators': 30}</td>\n",
       "      <td>-2.936608e+09</td>\n",
       "      <td>-3.029203e+09</td>\n",
       "      <td>...</td>\n",
       "      <td>-2.918387e+09</td>\n",
       "      <td>9.554719e+07</td>\n",
       "      <td>9</td>\n",
       "      <td>-4.421246e+08</td>\n",
       "      <td>-4.393238e+08</td>\n",
       "      <td>-4.398022e+08</td>\n",
       "      <td>-4.568083e+08</td>\n",
       "      <td>-4.512768e+08</td>\n",
       "      <td>-4.458671e+08</td>\n",
       "      <td>6.965341e+06</td>\n",
       "    </tr>\n",
       "    <tr>\n",
       "      <th>3</th>\n",
       "      <td>0.085406</td>\n",
       "      <td>0.001224</td>\n",
       "      <td>0.003347</td>\n",
       "      <td>0.000433</td>\n",
       "      <td>4</td>\n",
       "      <td>3</td>\n",
       "      <td>NaN</td>\n",
       "      <td>{'max_features': 4, 'n_estimators': 3}</td>\n",
       "      <td>-3.686246e+09</td>\n",
       "      <td>-4.192267e+09</td>\n",
       "      <td>...</td>\n",
       "      <td>-3.868662e+09</td>\n",
       "      <td>1.731616e+08</td>\n",
       "      <td>16</td>\n",
       "      <td>-1.053681e+09</td>\n",
       "      <td>-1.066069e+09</td>\n",
       "      <td>-9.614511e+08</td>\n",
       "      <td>-9.630280e+08</td>\n",
       "      <td>-1.016512e+09</td>\n",
       "      <td>-1.012148e+09</td>\n",
       "      <td>4.389643e+07</td>\n",
       "    </tr>\n",
       "    <tr>\n",
       "      <th>4</th>\n",
       "      <td>0.292516</td>\n",
       "      <td>0.018170</td>\n",
       "      <td>0.010565</td>\n",
       "      <td>0.002071</td>\n",
       "      <td>4</td>\n",
       "      <td>10</td>\n",
       "      <td>NaN</td>\n",
       "      <td>{'max_features': 4, 'n_estimators': 10}</td>\n",
       "      <td>-2.746784e+09</td>\n",
       "      <td>-3.044793e+09</td>\n",
       "      <td>...</td>\n",
       "      <td>-2.863205e+09</td>\n",
       "      <td>1.074082e+08</td>\n",
       "      <td>8</td>\n",
       "      <td>-5.589166e+08</td>\n",
       "      <td>-5.294790e+08</td>\n",
       "      <td>-5.103660e+08</td>\n",
       "      <td>-5.263246e+08</td>\n",
       "      <td>-5.276391e+08</td>\n",
       "      <td>-5.305450e+08</td>\n",
       "      <td>1.574503e+07</td>\n",
       "    </tr>\n",
       "  </tbody>\n",
       "</table>\n",
       "<p>5 rows × 23 columns</p>\n",
       "</div>"
      ],
      "text/plain": [
       "   mean_fit_time  std_fit_time  mean_score_time  std_score_time  \\\n",
       "0       0.067284      0.023681         0.003931        0.002031   \n",
       "1       0.189740      0.026217         0.012946        0.007570   \n",
       "2       0.559276      0.035517         0.025201        0.002780   \n",
       "3       0.085406      0.001224         0.003347        0.000433   \n",
       "4       0.292516      0.018170         0.010565        0.002071   \n",
       "\n",
       "  param_max_features param_n_estimators param_bootstrap  \\\n",
       "0                  2                  3             NaN   \n",
       "1                  2                 10             NaN   \n",
       "2                  2                 30             NaN   \n",
       "3                  4                  3             NaN   \n",
       "4                  4                 10             NaN   \n",
       "\n",
       "                                    params  split0_test_score  \\\n",
       "0   {'max_features': 2, 'n_estimators': 3}      -4.037016e+09   \n",
       "1  {'max_features': 2, 'n_estimators': 10}      -3.114622e+09   \n",
       "2  {'max_features': 2, 'n_estimators': 30}      -2.936608e+09   \n",
       "3   {'max_features': 4, 'n_estimators': 3}      -3.686246e+09   \n",
       "4  {'max_features': 4, 'n_estimators': 10}      -2.746784e+09   \n",
       "\n",
       "   split1_test_score  ...  mean_test_score  std_test_score  rank_test_score  \\\n",
       "0      -4.550480e+09  ...    -4.331333e+09    2.016197e+08               18   \n",
       "1      -3.303163e+09  ...    -3.156483e+09    8.944773e+07               11   \n",
       "2      -3.029203e+09  ...    -2.918387e+09    9.554719e+07                9   \n",
       "3      -4.192267e+09  ...    -3.868662e+09    1.731616e+08               16   \n",
       "4      -3.044793e+09  ...    -2.863205e+09    1.074082e+08                8   \n",
       "\n",
       "   split0_train_score  split1_train_score  split2_train_score  \\\n",
       "0       -1.131347e+09       -1.196735e+09       -1.127395e+09   \n",
       "1       -5.947299e+08       -6.057897e+08       -6.016766e+08   \n",
       "2       -4.421246e+08       -4.393238e+08       -4.398022e+08   \n",
       "3       -1.053681e+09       -1.066069e+09       -9.614511e+08   \n",
       "4       -5.589166e+08       -5.294790e+08       -5.103660e+08   \n",
       "\n",
       "   split3_train_score  split4_train_score  mean_train_score  std_train_score  \n",
       "0       -1.199818e+09       -1.161183e+09     -1.163296e+09     3.087447e+07  \n",
       "1       -6.094405e+08       -6.044697e+08     -6.032213e+08     4.925925e+06  \n",
       "2       -4.568083e+08       -4.512768e+08     -4.458671e+08     6.965341e+06  \n",
       "3       -9.630280e+08       -1.016512e+09     -1.012148e+09     4.389643e+07  \n",
       "4       -5.263246e+08       -5.276391e+08     -5.305450e+08     1.574503e+07  \n",
       "\n",
       "[5 rows x 23 columns]"
      ]
     },
     "execution_count": 68,
     "metadata": {},
     "output_type": "execute_result"
    }
   ],
   "source": [
    "pd.DataFrame(grid_search.cv_results_).head()"
   ]
  },
  {
   "cell_type": "markdown",
   "metadata": {},
   "source": [
    "### Randomized search\n",
    "*Easily finds the hyperparameters we are interested in by randomly picking a couple of hyperparameters and tries them out instead of searching through all possible combinations like the above method which might take a lot of time*"
   ]
  },
  {
   "cell_type": "code",
   "execution_count": 69,
   "metadata": {},
   "outputs": [
    {
     "data": {
      "text/plain": [
       "RandomizedSearchCV(cv=5, estimator=RandomForestRegressor(random_state=42),\n",
       "                   param_distributions={'max_features': <scipy.stats._distn_infrastructure.rv_frozen object at 0x000001A81DAF8760>,\n",
       "                                        'n_estimators': <scipy.stats._distn_infrastructure.rv_frozen object at 0x000001A82A278A60>},\n",
       "                   random_state=42, scoring='neg_mean_squared_error')"
      ]
     },
     "execution_count": 69,
     "metadata": {},
     "output_type": "execute_result"
    }
   ],
   "source": [
    "from sklearn.model_selection import RandomizedSearchCV\n",
    "from scipy.stats import randint\n",
    "\n",
    "param_distribs = {\n",
    "                  'n_estimators': randint(low=1,high=200),\n",
    "                  'max_features': randint(low=1,high=8)\n",
    "                  } \n",
    "\n",
    "forest_reg = RandomForestRegressor(random_state=42)\n",
    "rnd_search = RandomizedSearchCV(forest_reg, param_distributions=param_distribs, n_iter=10, cv=5, \n",
    "                                scoring='neg_mean_squared_error', random_state=42)\n",
    "rnd_search.fit(train_data, train_labels)"
   ]
  },
  {
   "cell_type": "code",
   "execution_count": 70,
   "metadata": {},
   "outputs": [
    {
     "name": "stdout",
     "output_type": "stream",
     "text": [
      "49333.670685930476 {'max_features': 7, 'n_estimators': 180}\n",
      "51882.97725092602 {'max_features': 5, 'n_estimators': 15}\n",
      "51066.614670491406 {'max_features': 3, 'n_estimators': 72}\n",
      "51379.91074126285 {'max_features': 5, 'n_estimators': 21}\n",
      "49455.88075545604 {'max_features': 7, 'n_estimators': 122}\n",
      "51024.140690855005 {'max_features': 3, 'n_estimators': 75}\n",
      "50907.12436997828 {'max_features': 3, 'n_estimators': 88}\n",
      "49863.12287435522 {'max_features': 5, 'n_estimators': 100}\n",
      "50663.67065391902 {'max_features': 3, 'n_estimators': 150}\n",
      "66796.29070887188 {'max_features': 5, 'n_estimators': 2}\n"
     ]
    }
   ],
   "source": [
    "# now we have to cross validate our rnd_search results\n",
    "cvres = rnd_search.cv_results_\n",
    "for mean_score,params in zip(cvres['mean_test_score'],cvres['params']):\n",
    "    print(np.sqrt(-mean_score),params)"
   ]
  },
  {
   "cell_type": "code",
   "execution_count": 71,
   "metadata": {},
   "outputs": [
    {
     "data": {
      "text/plain": [
       "array([8.36076116e-02, 6.70484278e-02, 4.04028688e-02, 1.90334964e-02,\n",
       "       1.67325091e-02, 1.82647266e-02, 1.63843202e-02, 3.37565531e-01,\n",
       "       2.51151004e-02, 1.09405543e-01, 9.26936087e-02, 2.27961321e-02,\n",
       "       1.34899045e-01, 1.16252651e-04, 6.39469576e-03, 9.54013116e-03])"
      ]
     },
     "execution_count": 71,
     "metadata": {},
     "output_type": "execute_result"
    }
   ],
   "source": [
    "# List the most important features from all the available columns\n",
    "feature_importances = grid_search.best_estimator_.feature_importances_\n",
    "feature_importances"
   ]
  },
  {
   "cell_type": "markdown",
   "metadata": {},
   "source": [
    "# Feature importance list\n",
    "*This is crucial especially when our models become black box models*"
   ]
  },
  {
   "cell_type": "code",
   "execution_count": 72,
   "metadata": {},
   "outputs": [
    {
     "data": {
      "text/plain": [
       "[('longitude', 0.0836076116332615),\n",
       " ('latitude', 0.06704842776748451),\n",
       " ('housing_median_age', 0.04040286876672789),\n",
       " ('total_rooms', 0.0190334963641117),\n",
       " ('total_bedrooms', 0.016732509127044635),\n",
       " ('population', 0.018264726584631706),\n",
       " ('households', 0.016384320170851452),\n",
       " ('median_income', 0.33756553126426975),\n",
       " ('bedrooms_per_household', 0.025115100371163743),\n",
       " ('population_per_household', 0.10940554292806923),\n",
       " ('rooms_per_household', 0.09269360869036111),\n",
       " ('<1H OCEAN', 0.022796132139005144),\n",
       " ('INLAND', 0.13489904461758895),\n",
       " ('ISLAND', 0.00011625265054338644),\n",
       " ('NEAR BAY', 0.006394695764912665),\n",
       " ('NEAR OCEAN', 0.009540131159972633)]"
      ]
     },
     "execution_count": 72,
     "metadata": {},
     "output_type": "execute_result"
    }
   ],
   "source": [
    "feature_importance_list = list(zip(features, feature_importances.tolist())) # features from the preprocessing pipeline\n",
    "feature_importance_list"
   ]
  },
  {
   "cell_type": "code",
   "execution_count": 73,
   "metadata": {},
   "outputs": [
    {
     "data": {
      "text/plain": [
       "<BarContainer object of 16 artists>"
      ]
     },
     "execution_count": 73,
     "metadata": {},
     "output_type": "execute_result"
    },
    {
     "data": {
      "image/png": "[encoded data removed]",
      "text/plain": [
       "<Figure size 432x288 with 1 Axes>"
      ]
     },
     "metadata": {
      "needs_background": "light"
     },
     "output_type": "display_data"
    }
   ],
   "source": [
    "plt.barh(y=features,width=feature_importances.tolist())"
   ]
  },
  {
   "cell_type": "markdown",
   "metadata": {},
   "source": [
    "It is clear that the median income along with inland, rooms/house, population/house, latitude & longitude features are the most important ones"
   ]
  },
  {
   "cell_type": "code",
   "execution_count": 74,
   "metadata": {},
   "outputs": [],
   "source": [
    "# Now we have to make the final predictions\n",
    "final_model = grid_search.best_estimator_\n",
    "final_predictions = final_model.predict(test_data)\n",
    "final_mse = mean_squared_error(test_labels, final_predictions)\n",
    "final_rmse = np.sqrt(final_mse)"
   ]
  },
  {
   "cell_type": "code",
   "execution_count": 75,
   "metadata": {},
   "outputs": [
    {
     "data": {
      "text/plain": [
       "50556.80017583786"
      ]
     },
     "execution_count": 75,
     "metadata": {},
     "output_type": "execute_result"
    }
   ],
   "source": [
    "final_rmse"
   ]
  }
 ],
 "metadata": {
  "interpreter": {
   "hash": "089f6037a9c1a1c4259a658c65b1e4b1bebe8c3f34aa1643c02cf688efa00a2e"
  },
  "kernelspec": {
   "display_name": "Python 3.9.7 64-bit ('hands_on_ML': conda)",
   "name": "python3"
  },
  "language_info": {
   "codemirror_mode": {
    "name": "ipython",
    "version": 3
   },
   "file_extension": ".py",
   "mimetype": "text/x-python",
   "name": "python",
   "nbconvert_exporter": "python",
   "pygments_lexer": "ipython3",
   "version": "3.9.7"
  }
 },
 "nbformat": 4,
 "nbformat_minor": 2
}
